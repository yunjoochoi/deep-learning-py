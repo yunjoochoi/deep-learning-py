{
  "nbformat": 4,
  "nbformat_minor": 0,
  "metadata": {
    "colab": {
      "provenance": []
    },
    "kernelspec": {
      "name": "python3",
      "display_name": "Python 3"
    },
    "language_info": {
      "name": "python"
    }
  },
  "cells": [
    {
      "cell_type": "markdown",
      "source": [
        "https://wikidocs.net/book/15787"
      ],
      "metadata": {
        "id": "kPmzl5tD3-Z8"
      }
    },
    {
      "cell_type": "markdown",
      "source": [
        "# 가변 인자 - 위치인자, 키워드 인자"
      ],
      "metadata": {
        "id": "1sP8PT8fuJAN"
      }
    },
    {
      "cell_type": "code",
      "execution_count": 1,
      "metadata": {
        "colab": {
          "base_uri": "https://localhost:8080/"
        },
        "id": "cz_TtSsut7_0",
        "outputId": "5293dccb-998b-4f68-d155-3a5307a90ec2"
      },
      "outputs": [
        {
          "output_type": "execute_result",
          "data": {
            "text/plain": [
              "15"
            ]
          },
          "metadata": {},
          "execution_count": 1
        }
      ],
      "source": [
        "def add(*numbers):\n",
        "  \"makes functions to receive arbitrary arguments - positional arguments\"\n",
        "  \"*을 붙이면, 함수에 넘긴 여러 개의 위치 인자를 하나의 튜플로 받\"\n",
        "  return sum(numbers)\n",
        "\n",
        "add(1,2,3,4,5)"
      ]
    },
    {
      "cell_type": "code",
      "source": [
        "def print_info(**kwargs):\n",
        "  \"\"\"\n",
        "  함수에 넘겨진 키워드 인자를 모두 딕셔너리 형태로 받습니다.\n",
        "  keyword arguments: 함수 호출 시 인자 이름(키) 명시해서 넘기는 방법\n",
        "  \"\"\"\n",
        "  for k, v in kwargs.items():\n",
        "    print(f\"{k}: {v}\")\n",
        "\n",
        "print_info(name=\"Alice\", age=30, city=\"New York\")"
      ],
      "metadata": {
        "colab": {
          "base_uri": "https://localhost:8080/"
        },
        "id": "QnmkvOaSuSBc",
        "outputId": "02a98b6e-2860-4a91-db35-b6d380f052fb"
      },
      "execution_count": 6,
      "outputs": [
        {
          "output_type": "stream",
          "name": "stdout",
          "text": [
            "name: Alice\n",
            "age: 30\n",
            "city: New York\n"
          ]
        }
      ]
    },
    {
      "cell_type": "code",
      "source": [
        "dict_info={\"name\":\"Alice\", \"age\":30, \"city\":\"New York\"}\n",
        "print_info(**dict_info)"
      ],
      "metadata": {
        "colab": {
          "base_uri": "https://localhost:8080/"
        },
        "id": "OPjWl4trvGA2",
        "outputId": "42a1fd23-3ed9-4e73-b616-eb1155e84947"
      },
      "execution_count": 7,
      "outputs": [
        {
          "output_type": "stream",
          "name": "stdout",
          "text": [
            "name: Alice\n",
            "age: 30\n",
            "city: New York\n"
          ]
        }
      ]
    },
    {
      "cell_type": "markdown",
      "source": [
        "# 람다 함수 _ lambda 매개변수1, 매개변수2, ... : 식"
      ],
      "metadata": {
        "id": "JyxBZ4fdwei_"
      }
    },
    {
      "cell_type": "code",
      "source": [
        "func1=lambda x,y: x+y\n",
        "func1(4,5)"
      ],
      "metadata": {
        "colab": {
          "base_uri": "https://localhost:8080/"
        },
        "id": "fVqyPKANvRWo",
        "outputId": "9ac1a776-d033-4e2b-a6a1-fb09a554d02f"
      },
      "execution_count": 9,
      "outputs": [
        {
          "output_type": "execute_result",
          "data": {
            "text/plain": [
              "9"
            ]
          },
          "metadata": {},
          "execution_count": 9
        }
      ]
    },
    {
      "cell_type": "code",
      "source": [
        "nums=[1,2,3,4,5,6]\n",
        "new=list(map(lambda x: x**2,nums))\n",
        "new"
      ],
      "metadata": {
        "colab": {
          "base_uri": "https://localhost:8080/"
        },
        "id": "uLglVSHYwqMd",
        "outputId": "59bb691b-8d24-4c36-e954-e1ebd405dcba"
      },
      "execution_count": 11,
      "outputs": [
        {
          "output_type": "execute_result",
          "data": {
            "text/plain": [
              "[1, 4, 9, 16, 25, 36]"
            ]
          },
          "metadata": {},
          "execution_count": 11
        }
      ]
    },
    {
      "cell_type": "code",
      "source": [
        "numbers = [1, 2, 3, 4, 5, 6, 7, 8, 9, 10]\n",
        "evens=list(filter(lambda x:x%2==0,numbers))\n",
        "evens"
      ],
      "metadata": {
        "colab": {
          "base_uri": "https://localhost:8080/"
        },
        "id": "abesnt48xBg1",
        "outputId": "39a2005f-8d61-4acc-fabf-ced5a06cec0f"
      },
      "execution_count": 14,
      "outputs": [
        {
          "output_type": "execute_result",
          "data": {
            "text/plain": [
              "[2, 4, 6, 8, 10]"
            ]
          },
          "metadata": {},
          "execution_count": 14
        }
      ]
    },
    {
      "cell_type": "code",
      "source": [
        "students = [(\"Alice\", 25), (\"Bob\", 20), (\"Charlie\", 22)]\n",
        "sorted_students = sorted(students, key=lambda student: student[1])\n",
        "print(sorted_students)"
      ],
      "metadata": {
        "colab": {
          "base_uri": "https://localhost:8080/"
        },
        "id": "SVkERBcGxYAy",
        "outputId": "26233469-5c69-4b77-89ed-f24fef77c4a5"
      },
      "execution_count": 15,
      "outputs": [
        {
          "output_type": "stream",
          "name": "stdout",
          "text": [
            "[('Bob', 20), ('Charlie', 22), ('Alice', 25)]\n"
          ]
        }
      ]
    },
    {
      "cell_type": "markdown",
      "source": [
        "# 제너레이터"
      ],
      "metadata": {
        "id": "EDFCvAzMN8pX"
      }
    },
    {
      "cell_type": "code",
      "source": [
        "# 제너레이터는 파이썬의 이터레이터 중 하나이다.\n",
        "# 필요할 때마다 값을 하나씩 메모리에 올려서 처리하고, 함수 내에서 값을 넘기면 버림\n",
        "def count_up(max):\n",
        "  cnt=1\n",
        "  while cnt<=max:\n",
        "    yield cnt\n",
        "    cnt+=1"
      ],
      "metadata": {
        "id": "0Yl7fZ7uxeJX"
      },
      "execution_count": 2,
      "outputs": []
    },
    {
      "cell_type": "code",
      "source": [
        "counter=count_up(5)\n",
        "for num in counter:\n",
        "  print(num)"
      ],
      "metadata": {
        "colab": {
          "base_uri": "https://localhost:8080/"
        },
        "id": "7jsPQxWgPJ2V",
        "outputId": "69c2ff36-cc52-48f4-a623-2bf5b69229db"
      },
      "execution_count": 4,
      "outputs": [
        {
          "output_type": "stream",
          "name": "stdout",
          "text": [
            "1\n",
            "2\n",
            "3\n",
            "4\n",
            "5\n"
          ]
        }
      ]
    },
    {
      "cell_type": "code",
      "source": [
        "squares=(x**2 for x in range(1,11))\n",
        "squares"
      ],
      "metadata": {
        "colab": {
          "base_uri": "https://localhost:8080/"
        },
        "id": "3Rwt5a3bPP8E",
        "outputId": "5c4e0ca7-5aea-449a-8e33-7d2c0ad31c8c"
      },
      "execution_count": 6,
      "outputs": [
        {
          "output_type": "execute_result",
          "data": {
            "text/plain": [
              "<generator object <genexpr> at 0x7dc2a3294380>"
            ]
          },
          "metadata": {},
          "execution_count": 6
        }
      ]
    },
    {
      "cell_type": "code",
      "source": [
        "# 제너레이터를 사용하면 메모리 사용을 최소화하면서도 대용량 데이터를 처리\n",
        "def read_lines(file_path):\n",
        "  with open(file_path, 'r') as file:\n",
        "    for line in file:\n",
        "      yield line.strip()\n",
        "for line in read_lines('example.txt'):\n",
        "    print(line)"
      ],
      "metadata": {
        "colab": {
          "base_uri": "https://localhost:8080/",
          "height": 334
        },
        "id": "tHUECetXS4hq",
        "outputId": "b6cbee83-ff6c-4563-f584-878827e0a7ed"
      },
      "execution_count": 7,
      "outputs": [
        {
          "output_type": "error",
          "ename": "FileNotFoundError",
          "evalue": "[Errno 2] No such file or directory: 'example.txt'",
          "traceback": [
            "\u001b[0;31m---------------------------------------------------------------------------\u001b[0m",
            "\u001b[0;31mFileNotFoundError\u001b[0m                         Traceback (most recent call last)",
            "\u001b[0;32m/tmp/ipython-input-7-2261559914.py\u001b[0m in \u001b[0;36m<cell line: 0>\u001b[0;34m()\u001b[0m\n\u001b[1;32m      4\u001b[0m     \u001b[0;32mfor\u001b[0m \u001b[0mline\u001b[0m \u001b[0;32min\u001b[0m \u001b[0mfile\u001b[0m\u001b[0;34m:\u001b[0m\u001b[0;34m\u001b[0m\u001b[0;34m\u001b[0m\u001b[0m\n\u001b[1;32m      5\u001b[0m       \u001b[0;32myield\u001b[0m \u001b[0mline\u001b[0m\u001b[0;34m.\u001b[0m\u001b[0mstrip\u001b[0m\u001b[0;34m(\u001b[0m\u001b[0;34m)\u001b[0m\u001b[0;34m\u001b[0m\u001b[0;34m\u001b[0m\u001b[0m\n\u001b[0;32m----> 6\u001b[0;31m \u001b[0;32mfor\u001b[0m \u001b[0mline\u001b[0m \u001b[0;32min\u001b[0m \u001b[0mread_lines\u001b[0m\u001b[0;34m(\u001b[0m\u001b[0;34m'example.txt'\u001b[0m\u001b[0;34m)\u001b[0m\u001b[0;34m:\u001b[0m\u001b[0;34m\u001b[0m\u001b[0;34m\u001b[0m\u001b[0m\n\u001b[0m\u001b[1;32m      7\u001b[0m     \u001b[0mprint\u001b[0m\u001b[0;34m(\u001b[0m\u001b[0mline\u001b[0m\u001b[0;34m)\u001b[0m\u001b[0;34m\u001b[0m\u001b[0;34m\u001b[0m\u001b[0m\n",
            "\u001b[0;32m/tmp/ipython-input-7-2261559914.py\u001b[0m in \u001b[0;36mread_lines\u001b[0;34m(file_path)\u001b[0m\n\u001b[1;32m      1\u001b[0m \u001b[0;31m# 제너레이터를 사용하면 메모리 사용을 최소화하면서도 대용량 데이터를 처리\u001b[0m\u001b[0;34m\u001b[0m\u001b[0;34m\u001b[0m\u001b[0m\n\u001b[1;32m      2\u001b[0m \u001b[0;32mdef\u001b[0m \u001b[0mread_lines\u001b[0m\u001b[0;34m(\u001b[0m\u001b[0mfile_path\u001b[0m\u001b[0;34m)\u001b[0m\u001b[0;34m:\u001b[0m\u001b[0;34m\u001b[0m\u001b[0;34m\u001b[0m\u001b[0m\n\u001b[0;32m----> 3\u001b[0;31m   \u001b[0;32mwith\u001b[0m \u001b[0mopen\u001b[0m\u001b[0;34m(\u001b[0m\u001b[0mfile_path\u001b[0m\u001b[0;34m,\u001b[0m \u001b[0;34m'r'\u001b[0m\u001b[0;34m)\u001b[0m \u001b[0;32mas\u001b[0m \u001b[0mfile\u001b[0m\u001b[0;34m:\u001b[0m\u001b[0;34m\u001b[0m\u001b[0;34m\u001b[0m\u001b[0m\n\u001b[0m\u001b[1;32m      4\u001b[0m     \u001b[0;32mfor\u001b[0m \u001b[0mline\u001b[0m \u001b[0;32min\u001b[0m \u001b[0mfile\u001b[0m\u001b[0;34m:\u001b[0m\u001b[0;34m\u001b[0m\u001b[0;34m\u001b[0m\u001b[0m\n\u001b[1;32m      5\u001b[0m       \u001b[0;32myield\u001b[0m \u001b[0mline\u001b[0m\u001b[0;34m.\u001b[0m\u001b[0mstrip\u001b[0m\u001b[0;34m(\u001b[0m\u001b[0;34m)\u001b[0m\u001b[0;34m\u001b[0m\u001b[0;34m\u001b[0m\u001b[0m\n",
            "\u001b[0;31mFileNotFoundError\u001b[0m: [Errno 2] No such file or directory: 'example.txt'"
          ]
        }
      ]
    },
    {
      "cell_type": "markdown",
      "source": [
        "# 객체지향프로그래밍"
      ],
      "metadata": {
        "id": "WkRBGkEPUso-"
      }
    },
    {
      "cell_type": "code",
      "source": [
        "class Person:\n",
        "    # 생성자 메소드\n",
        "    def __init__(self, name, age):\n",
        "        self.name = name  # 인스턴스 변수\n",
        "        self.age = age    # 인스턴스 변수\n",
        "\n",
        "    # 인스턴스 메소드\n",
        "    def greet(self):\n",
        "        print(f\"Hello, my name is {self.name} and I am {self.age} years old.\")"
      ],
      "metadata": {
        "id": "jCtSOXWNUABR"
      },
      "execution_count": 8,
      "outputs": []
    },
    {
      "cell_type": "code",
      "source": [
        "# 객체 생성\n",
        "person1 = Person(\"Alice\", 30)\n",
        "person2 = Person(\"Bob\", 25)\n",
        "\n",
        "# 메소드 호출\n",
        "person1.greet()  # Hello, my name is Alice and I am 30 years old.\n",
        "person2.greet()  # Hello, my name is Bob and I am 25 years old."
      ],
      "metadata": {
        "colab": {
          "base_uri": "https://localhost:8080/"
        },
        "id": "AiXqvKAKUwPY",
        "outputId": "2182f58c-48c3-44ec-e264-06ba781e5809"
      },
      "execution_count": 9,
      "outputs": [
        {
          "output_type": "stream",
          "name": "stdout",
          "text": [
            "Hello, my name is Alice and I am 30 years old.\n",
            "Hello, my name is Bob and I am 25 years old.\n"
          ]
        }
      ]
    },
    {
      "cell_type": "code",
      "source": [
        "class Person:\n",
        "  species=\"Homo sapiens\" # 클래스 변수, all instances share this variable\n",
        "\n",
        "  def __init__(self, name, age):\n",
        "    self.name=name\n",
        "    self.age=age\n",
        "\n",
        "person1=Person(\"Alice\",30)\n",
        "print(person1.species) # 인스턴스에서 클래스 변수 접근\n",
        "print(person1.name) # instance 변수 접근\n",
        "\n",
        "print(Person.species) # 클래스에서 클래스 변수 접근\n"
      ],
      "metadata": {
        "colab": {
          "base_uri": "https://localhost:8080/"
        },
        "id": "QXfSHnQvUwVU",
        "outputId": "100f5f08-0f1a-41ea-8ddc-8425e39c087c"
      },
      "execution_count": 16,
      "outputs": [
        {
          "output_type": "stream",
          "name": "stdout",
          "text": [
            "Homo sapiens\n",
            "Alice\n",
            "Homo sapiens\n"
          ]
        }
      ]
    },
    {
      "cell_type": "code",
      "source": [
        "class Person:\n",
        "    species=\"Homo sapiens\" # 클래스 변수, all instances share this variable\n",
        "\n",
        "    def __init__(self, name, age):\n",
        "        self.name = name\n",
        "        self.age = age\n",
        "\n",
        "    def greet(self): # 인스컨스 메소드, self를 통해 객체 속성이나 다른 메서드에 접근 가능\n",
        "        print(f\"Hello, my name is {self.name} and I am {self.age} years old.\")\n",
        "\n",
        "    @classmethod\n",
        "    def species_info(cls): # 클래스 메서드로, 클래스 변수에 접근 가능하다. 데코레이터 통해 선언\n",
        "      # cls <-클래스 자신을 받는다.\n",
        "      print(f\"Species: {cls.species}\")\n",
        "\n",
        "print(Person.species_info())\n",
        "person = Person(\"Alice\", 30)\n",
        "person.greet()"
      ],
      "metadata": {
        "colab": {
          "base_uri": "https://localhost:8080/"
        },
        "id": "UM1i7gfwVmJs",
        "outputId": "13e288a4-d335-458b-9237-8a0eb8495576"
      },
      "execution_count": 11,
      "outputs": [
        {
          "output_type": "stream",
          "name": "stdout",
          "text": [
            "Species: Homo sapiens\n",
            "None\n",
            "Hello, my name is Alice and I am 30 years old.\n"
          ]
        }
      ]
    },
    {
      "cell_type": "code",
      "source": [
        "# 정적 메소드는 클래스나 인스턴스 상관없이 독립적으로 동작하는 메소드이다.\n",
        "# 클래스 내부에 있지만 클래스에 의존하지 않는 함수\n",
        "class MathOperations:\n",
        "  @staticmethod\n",
        "  def add(a,b):\n",
        "    return a+b\n",
        "\n",
        "MathOperations.add(3,4)"
      ],
      "metadata": {
        "colab": {
          "base_uri": "https://localhost:8080/"
        },
        "id": "t3Ocs1lxWTER",
        "outputId": "285b2d50-ca59-48a7-a072-212f33814af4"
      },
      "execution_count": 13,
      "outputs": [
        {
          "output_type": "execute_result",
          "data": {
            "text/plain": [
              "7"
            ]
          },
          "metadata": {},
          "execution_count": 13
        }
      ]
    },
    {
      "cell_type": "markdown",
      "source": [
        "## 상속, 다형성, 캡슐화"
      ],
      "metadata": {
        "id": "FzR8GvUTXAvT"
      }
    },
    {
      "cell_type": "code",
      "source": [
        "class Animal:\n",
        "  def __init__(self, name):\n",
        "    self.name=name\n",
        "\n",
        "  def speak(self):\n",
        "    raise NotImplementedError(\"Subclass must implement abstract method\")\n",
        "\n",
        "class Dog(Animal): # 클래스 상속\n",
        "  def speak(self): # 오버라이딩\n",
        "    return f\"{self.name} says Woof!\"\n",
        "\n",
        "doggy=Dog(\"Buddy\")\n",
        "doggy.speak()"
      ],
      "metadata": {
        "colab": {
          "base_uri": "https://localhost:8080/",
          "height": 36
        },
        "id": "_Hrq5PusXAL7",
        "outputId": "e17bfd86-7077-4a92-99cb-5465701d7e6c"
      },
      "execution_count": 17,
      "outputs": [
        {
          "output_type": "execute_result",
          "data": {
            "text/plain": [
              "'Buddy says Woof!'"
            ],
            "application/vnd.google.colaboratory.intrinsic+json": {
              "type": "string"
            }
          },
          "metadata": {},
          "execution_count": 17
        }
      ]
    },
    {
      "cell_type": "code",
      "source": [
        "def animal_speak(animal):\n",
        "  print(animal.speak()) # 애니몰 클래스 받는다고 가정하고 바로 클래스내 메소드 이렇게 써버림\n",
        "animal_speak(doggy)"
      ],
      "metadata": {
        "colab": {
          "base_uri": "https://localhost:8080/"
        },
        "id": "rp3Pi03TWxm8",
        "outputId": "6fd1ad16-2c56-42dd-8d05-946a22e96122"
      },
      "execution_count": 18,
      "outputs": [
        {
          "output_type": "stream",
          "name": "stdout",
          "text": [
            "Buddy says Woof!\n"
          ]
        }
      ]
    },
    {
      "cell_type": "code",
      "source": [
        "# 캡슐화 구현: 객체 내부 상태를 외부에서 함부로 접근 못하게하고 공개 메소드 통해서만 접근하게 한다.\n",
        "class Person:\n",
        "  def __init__(self, name, age):\n",
        "    self.__name=name # 클래스에서 속성 이름 앞에 __붙이는 건 private만드는 것\n",
        "    self.__age=age\n",
        "\n",
        "  def get_name(self):\n",
        "    return self.__name\n",
        "  def set_name(self, name):\n",
        "    self.__name=name\n",
        "  def get_age(self):\n",
        "        return self.__age\n",
        "\n",
        "  def set_age(self, age):\n",
        "    if 0 <= age <= 120:  # 간단한 유효성 검사\n",
        "        self.__age = age\n",
        "    else:\n",
        "      raise ValueError(\"Invalid age\")\n",
        ""
      ],
      "metadata": {
        "id": "EEu01k9uYsZM"
      },
      "execution_count": 19,
      "outputs": []
    },
    {
      "cell_type": "code",
      "source": [
        "# 객체 생성 및 메소드 호출\n",
        "person = Person(\"Alice\", 30)\n",
        "print(person.get_name())  # Alice\n",
        "print(person.get_age())   # 30\n",
        "\n",
        "person.set_name(\"Bob\")\n",
        "person.set_age(25)\n",
        "print(person.get_name())  # Bob\n",
        "print(person.get_age())   # 25\n",
        "\n",
        "# 직접 접근 시도 (실패)\n",
        "# print(person.__name)"
      ],
      "metadata": {
        "colab": {
          "base_uri": "https://localhost:8080/"
        },
        "id": "l2OXNEZIaB9A",
        "outputId": "ca891534-713e-418b-daa0-01f48b315f00"
      },
      "execution_count": 22,
      "outputs": [
        {
          "output_type": "stream",
          "name": "stdout",
          "text": [
            "Alice\n",
            "30\n",
            "Bob\n",
            "25\n"
          ]
        }
      ]
    },
    {
      "cell_type": "code",
      "source": [
        "class Person:\n",
        "    def __init__(self, name, age):\n",
        "        self.__name = name\n",
        "        self.__age = age\n",
        "\n",
        "    def get_name(self):\n",
        "        return self.__name\n",
        "\n",
        "    def set_name(self, name):\n",
        "        self.__name = name\n",
        "\n",
        "    def get_age(self):\n",
        "        return self.__age\n",
        "\n",
        "    def set_age(self, age):\n",
        "        if 0 <= age <= 120:\n",
        "            self.__age = age\n",
        "        else:\n",
        "            raise ValueError(\"Invalid age\")\n",
        "\n",
        "class Employee(Person):\n",
        "    def __init__(self, name, age, employee_id):\n",
        "        super().__init__(name, age)\n",
        "        self.__employee_id = employee_id\n",
        "\n",
        "    def get_employee_id(self):\n",
        "        return self.__employee_id\n",
        "\n",
        "# 객체 생성 및 메소드 호출\n",
        "employee = Employee(\"Charlie\", 35, \"E12345\")\n",
        "print(employee.get_name())  # Charlie\n",
        "print(employee.get_age())   # 35\n",
        "print(employee.get_employee_id())  # E12345"
      ],
      "metadata": {
        "colab": {
          "base_uri": "https://localhost:8080/"
        },
        "id": "C1H9Sw5oaEUq",
        "outputId": "c0fd1d1d-05d2-40ba-da0f-11f6d725b729"
      },
      "execution_count": 23,
      "outputs": [
        {
          "output_type": "stream",
          "name": "stdout",
          "text": [
            "Charlie\n",
            "35\n",
            "E12345\n"
          ]
        }
      ]
    },
    {
      "cell_type": "markdown",
      "source": [
        "## 메소드와 특수 메소드(__ 더블언더스코어)\n",
        "- 특수 메소드(Special Methods)는 파이썬의 특정 동작을 구현하기 위해 정의된 메소드"
      ],
      "metadata": {
        "id": "ibfaWsdra4w3"
      }
    },
    {
      "cell_type": "code",
      "source": [
        "# __init__ 메소드 - 생성자 메소드, 객체가 생성될 때 호출된다\n",
        "class Person:\n",
        "    def __init__(self, name, age):\n",
        "        self.name = name\n",
        "        self.age = age\n",
        "\n",
        "# 객체 생성\n",
        "person = Person(\"Alice\", 30)\n",
        "print(person) # <__main__.Person object at 0x7dc28e7a6c50> 메모리 주소"
      ],
      "metadata": {
        "colab": {
          "base_uri": "https://localhost:8080/"
        },
        "id": "GHxcfoOQacsA",
        "outputId": "6f48ae11-27b2-4054-a10e-994c77053292"
      },
      "execution_count": 26,
      "outputs": [
        {
          "output_type": "stream",
          "name": "stdout",
          "text": [
            "<__main__.Person object at 0x7dc28e7a6c50>\n"
          ]
        }
      ]
    },
    {
      "cell_type": "code",
      "source": [
        "# __str__ 메소드 - 객체의 문자열 표현을 정의한다. 프린트나 str 함수에 의해 호출된다.\n",
        "class Person:\n",
        "  def __init__(self, name, age):\n",
        "        self.name = name\n",
        "        self.age = age\n",
        "  def __str__(self): # \t사람이 보기 쉬운 표현\n",
        "    return f\"{self.name}, {self.age}\"\n",
        "\n",
        "person=Person(\"hana\",30)\n",
        "print(person)\n",
        "print(str(person))\n",
        "str(person)"
      ],
      "metadata": {
        "colab": {
          "base_uri": "https://localhost:8080/",
          "height": 73
        },
        "id": "RlWo5pnfbD5v",
        "outputId": "c0f174c3-f725-49e9-ad1b-183974995fe4"
      },
      "execution_count": 27,
      "outputs": [
        {
          "output_type": "stream",
          "name": "stdout",
          "text": [
            "hana, 30\n",
            "hana, 30\n"
          ]
        },
        {
          "output_type": "execute_result",
          "data": {
            "text/plain": [
              "'hana, 30'"
            ],
            "application/vnd.google.colaboratory.intrinsic+json": {
              "type": "string"
            }
          },
          "metadata": {},
          "execution_count": 27
        }
      ]
    },
    {
      "cell_type": "code",
      "source": [
        "# __repr__ 메소드 - 객체의 공식적인 문자열 표현, 개발자용\n",
        "class Person:\n",
        "    def __init__(self, name, age):\n",
        "        self.name = name\n",
        "        self.age = age\n",
        "\n",
        "    def __repr__(self): # 개발자/디버깅용 정확한 표현\n",
        "        return f\"Person(name={self.name!r}, age={self.age})\"\n",
        "\n",
        "person = Person(\"Alice\", 30)\n",
        "print(repr(person))"
      ],
      "metadata": {
        "colab": {
          "base_uri": "https://localhost:8080/"
        },
        "id": "51RLD2c6bD3n",
        "outputId": "6ea35dbe-21dd-40ef-bbfa-711f83d34fd7"
      },
      "execution_count": 29,
      "outputs": [
        {
          "output_type": "stream",
          "name": "stdout",
          "text": [
            "Person(name='Alice', age=30)\n"
          ]
        }
      ]
    },
    {
      "cell_type": "code",
      "source": [
        "# __eq__ - 객체 간 동등성 정\n",
        "class Person:\n",
        "    def __init__(self, name, age):\n",
        "        self.name = name\n",
        "        self.age = age\n",
        "\n",
        "    def __eq__(self, other):\n",
        "      if isinstance(other, Person):\n",
        "        return self.name==other.name and self.age==other.age\n",
        "      return False"
      ],
      "metadata": {
        "id": "ElOjnlYfc4nu"
      },
      "execution_count": 31,
      "outputs": []
    },
    {
      "cell_type": "code",
      "source": [
        "person1 = Person(\"Alice\", 30)\n",
        "person2 = Person(\"Alice\", 30)\n",
        "person1==person2 # == 연산자에 의해 호출"
      ],
      "metadata": {
        "colab": {
          "base_uri": "https://localhost:8080/"
        },
        "id": "CGIBUI3YeAb9",
        "outputId": "6376446e-355b-485c-8495-4476420c3ea9"
      },
      "execution_count": 32,
      "outputs": [
        {
          "output_type": "execute_result",
          "data": {
            "text/plain": [
              "True"
            ]
          },
          "metadata": {},
          "execution_count": 32
        }
      ]
    },
    {
      "cell_type": "code",
      "source": [
        "# __lt__ 메소드 - 객체 간 순서 정의, <연산자 의해 호출된다.\n",
        "class Person:\n",
        "    def __init__(self, name, age):\n",
        "        self.name = name\n",
        "        self.age = age\n",
        "    def __lt__(self, other): # less than\n",
        "      if isinstance(other, Person):\n",
        "        return self.age<other.age\n",
        "      return NotImplemented\n",
        "person1 = Person(\"Alice\", 30)\n",
        "person2 = Person(\"Bob\", 25)\n",
        "print(person1 < person2)"
      ],
      "metadata": {
        "colab": {
          "base_uri": "https://localhost:8080/"
        },
        "id": "vAM4yMMjeGkA",
        "outputId": "e864d036-d7c1-4c5b-9e23-36a13f9bfe25"
      },
      "execution_count": 33,
      "outputs": [
        {
          "output_type": "stream",
          "name": "stdout",
          "text": [
            "False\n"
          ]
        }
      ]
    },
    {
      "cell_type": "code",
      "source": [
        "# __add__메소드는 두 객체 간의 덧셈을 정의한다.  + 연산자에 의해 호출\n",
        "class Vector:\n",
        "  def __init__(self, x,y):\n",
        "    self.x=x\n",
        "    self.y=y\n",
        "\n",
        "  def __add__(self, other):\n",
        "    if isinstance(other, Vector):\n",
        "      return Vector(self.x+other.x , self.y+other.y)\n",
        "    return NotImplemented\n",
        "\n",
        "  def __repr__(self):\n",
        "    return f\"Vector({self.x},{self.y})\"\n",
        "\n",
        "v1=Vector(2,3)\n",
        "v2=Vector(3,4)\n",
        "v3=v1+v2\n",
        "print(v3)"
      ],
      "metadata": {
        "colab": {
          "base_uri": "https://localhost:8080/"
        },
        "id": "zYHMOsQFfEOk",
        "outputId": "c074fba2-bd2e-4b93-b8d9-f3aca9403884"
      },
      "execution_count": 34,
      "outputs": [
        {
          "output_type": "stream",
          "name": "stdout",
          "text": [
            "Vector(5,7)\n"
          ]
        }
      ]
    },
    {
      "cell_type": "code",
      "source": [
        "# 부모 클래스 메서드 호출\n",
        "class Animal:\n",
        "    def __init__(self, name):\n",
        "        self.name = name\n",
        "\n",
        "    def speak(self):\n",
        "        raise NotImplementedError(\"Subclass must implement abstract method\")\n",
        "\n",
        "class Dog(Animal):\n",
        "    def __init__(self, name, breed):\n",
        "        super().__init__(name)  # 부모 클래스의 __init__ 메소드 호출\n",
        "        self.breed = breed\n",
        "\n",
        "    def speak(self):\n",
        "        return f\"{self.name} the {self.breed} says Woof!\"\n",
        "\n",
        "# 객체 생성 및 메소드 호출\n",
        "dog = Dog(\"Buddy\", \"Golden Retriever\")\n",
        "print(dog.speak())"
      ],
      "metadata": {
        "colab": {
          "base_uri": "https://localhost:8080/"
        },
        "id": "j68BwwWZqGJ-",
        "outputId": "176e34d3-0e4e-433d-ac3b-763102093712"
      },
      "execution_count": 37,
      "outputs": [
        {
          "output_type": "stream",
          "name": "stdout",
          "text": [
            "Buddy the Golden Retriever says Woof!\n"
          ]
        }
      ]
    },
    {
      "cell_type": "code",
      "source": [
        "class Animal:\n",
        "    def speak(self):\n",
        "        return \"Some sound\"\n",
        "\n",
        "class Dog(Animal):\n",
        "    def speak(self):\n",
        "        return \"Woof!\"\n",
        "\n",
        "class Cat(Animal):\n",
        "    def speak(self):\n",
        "        return \"Meow!\"\n",
        "\n",
        "# 객체 생성 및 메소드 호출\n",
        "animals = [Dog(), Cat(), Animal()]\n",
        "for animal in animals:\n",
        "    print(animal.speak())"
      ],
      "metadata": {
        "colab": {
          "base_uri": "https://localhost:8080/"
        },
        "id": "O4B_3podqZn0",
        "outputId": "da05bccf-7ac1-470f-9bd6-c5d5e72f317d"
      },
      "execution_count": 38,
      "outputs": [
        {
          "output_type": "stream",
          "name": "stdout",
          "text": [
            "Woof!\n",
            "Meow!\n",
            "Some sound\n"
          ]
        }
      ]
    },
    {
      "cell_type": "code",
      "source": [
        "# 다중상속 지원\n",
        "class Walker:\n",
        "  def walk(self):\n",
        "    return \"Walking\"\n",
        "\n",
        "class Swimmer:\n",
        "  def swim(self):\n",
        "    return \"Swimming\"\n",
        "\n",
        "class Amphibian(Walker, Swimmer):\n",
        "  pass\n"
      ],
      "metadata": {
        "id": "Tro7-mHyrAYb"
      },
      "execution_count": 39,
      "outputs": []
    },
    {
      "cell_type": "code",
      "source": [
        "# class examples\n",
        "class Book:\n",
        "    def __init__(self, title, author, isbn):\n",
        "        self.title = title\n",
        "        self.author = author\n",
        "        self.isbn = isbn\n",
        "\n",
        "    def __str__(self):\n",
        "        return f\"'{self.title}' by {self.author} (ISBN: {self.isbn})\"\n",
        "\n",
        "class Library:\n",
        "    def __init__(self):\n",
        "        self.books = []\n",
        "\n",
        "    def add_book(self, book):\n",
        "        self.books.append(book)\n",
        "        print(f\"Added {book}\")\n",
        "\n",
        "    def list_books(self):\n",
        "        print(\"Library Collection:\")\n",
        "        for book in self.books:\n",
        "            print(book)\n",
        "\n",
        "# 객체 생성 및 메소드 호출\n",
        "book1 = Book(\"1984\", \"George Orwell\", \"1234567890\")\n",
        "book2 = Book(\"To Kill a Mockingbird\", \"Harper Lee\", \"0987654321\")\n",
        "\n",
        "library = Library()\n",
        "library.add_book(book1)\n",
        "library.add_book(book2)\n",
        "library.list_books()"
      ],
      "metadata": {
        "colab": {
          "base_uri": "https://localhost:8080/"
        },
        "id": "xF-CjF-arYxy",
        "outputId": "1a3fd74c-0e79-422d-fe7a-4096734370f7"
      },
      "execution_count": 40,
      "outputs": [
        {
          "output_type": "stream",
          "name": "stdout",
          "text": [
            "Added '1984' by George Orwell (ISBN: 1234567890)\n",
            "Added 'To Kill a Mockingbird' by Harper Lee (ISBN: 0987654321)\n",
            "Library Collection:\n",
            "'1984' by George Orwell (ISBN: 1234567890)\n",
            "'To Kill a Mockingbird' by Harper Lee (ISBN: 0987654321)\n"
          ]
        }
      ]
    },
    {
      "cell_type": "code",
      "source": [
        "class Book:\n",
        "  def __init__(self, title, author, isbn):\n",
        "    self.title=title\n",
        "    self.author=author\n",
        "    self.isbn=isbn\n",
        "    self.__borrowed=False\n",
        "\n",
        "  def borrow(self):\n",
        "    if not self.__borrowed:\n",
        "      self.__borrow=True\n",
        "      return f\"You have borrowed '{self.title}'\"\n",
        "    else:\n",
        "      return f\"'{self.title}' is already borrowed\"\n",
        "\n",
        "  def return_book(self):\n",
        "    if self.__borrow:\n",
        "      self.__borrow=False\n",
        "      return f\"You have returned '{self.title}'\"\n",
        "    else:\n",
        "      return f\"'{self.title}' was not borrowed\"\n",
        "\n",
        "  def __str__(self):\n",
        "    return f\"'{self.title}' by {self.author} (ISBN: {self.isbn})\"\n",
        "\n",
        "class EBook(Book):\n",
        "  def __init__(self, title, author, isbn, file_format):\n",
        "    super().__init__(title, author, isbn)\n",
        "    self.file_format=file_format\n",
        "\n",
        "  def __str__(self):\n",
        "    return super().__str__()+f\" [EBook - {self.file_format}]\"\n",
        "\n",
        "class PrintedBook(Book):\n",
        "    def __init__(self, title, author, isbn, pages):\n",
        "        super().__init__(title, author, isbn)\n",
        "        self.pages = pages\n",
        "\n",
        "    def __str__(self):\n",
        "        return super().__str__() + f\" [Printed Book - {self.pages} pages]\"\n",
        "\n",
        "ebook = EBook(\"1984\", \"George Orwell\", \"1234567890\", \"PDF\")\n",
        "printed_book = PrintedBook(\"To Kill a Mockingbird\", \"Harper Lee\", \"0987654321\", 324)\n",
        "\n",
        "print(ebook)\n",
        "print(printed_book)\n",
        "\n",
        "print(ebook.borrow())\n",
        "print(ebook.borrow())  # 이미 대출된 도서\n",
        "print(ebook.return_book())\n",
        "print(ebook.return_book())"
      ],
      "metadata": {
        "colab": {
          "base_uri": "https://localhost:8080/"
        },
        "id": "lHtyFu46rl84",
        "outputId": "1f020888-7d9f-45de-f3a0-5a71004d9822"
      },
      "execution_count": 41,
      "outputs": [
        {
          "output_type": "stream",
          "name": "stdout",
          "text": [
            "'1984' by George Orwell (ISBN: 1234567890) [EBook - PDF]\n",
            "'To Kill a Mockingbird' by Harper Lee (ISBN: 0987654321) [Printed Book - 324 pages]\n",
            "You have borrowed '1984'\n",
            "You have borrowed '1984'\n",
            "You have returned '1984'\n",
            "'1984' was not borrowed\n"
          ]
        }
      ]
    },
    {
      "cell_type": "code",
      "source": [
        "class Library:\n",
        "    def __init__(self):\n",
        "        self.books = []\n",
        "\n",
        "    def add_book(self, book):\n",
        "        self.books.append(book)\n",
        "        print(f\"Added {book}\")\n",
        "\n",
        "    def list_books(self):\n",
        "        print(\"Library Collection:\")\n",
        "        for book in self.books:\n",
        "            print(book)\n",
        "\n",
        "    def find_book_by_title(self, title):\n",
        "        for book in self.books:\n",
        "            if book.title == title:\n",
        "                return book\n",
        "        return None\n",
        "\n",
        "    def __str__(self):\n",
        "        return f\"Library with {len(self.books)} books\"\n",
        "\n",
        "# 객체 생성 및 메소드 호출\n",
        "library = Library()\n",
        "library.add_book(ebook)\n",
        "library.add_book(printed_book)\n",
        "\n",
        "print(library)\n",
        "\n",
        "found_book = library.find_book_by_title(\"1984\")\n",
        "if found_book:\n",
        "    print(f\"Found: {found_book}\")\n",
        "else:\n",
        "    print(\"Book not found\")\n"
      ],
      "metadata": {
        "colab": {
          "base_uri": "https://localhost:8080/"
        },
        "id": "lmJOvdKztPJL",
        "outputId": "dc1b370d-d1c2-4968-8724-4a2def66d9f6"
      },
      "execution_count": 42,
      "outputs": [
        {
          "output_type": "stream",
          "name": "stdout",
          "text": [
            "Added '1984' by George Orwell (ISBN: 1234567890) [EBook - PDF]\n",
            "Added 'To Kill a Mockingbird' by Harper Lee (ISBN: 0987654321) [Printed Book - 324 pages]\n",
            "Library with 2 books\n",
            "Found: '1984' by George Orwell (ISBN: 1234567890) [EBook - PDF]\n"
          ]
        }
      ]
    },
    {
      "cell_type": "code",
      "source": [
        "class Member:\n",
        "  def __init__(self, name):\n",
        "    self.name=name\n",
        "    self.borrowed_books=[]\n",
        "\n",
        "  def borrow_book(self, book):\n",
        "    message=book.borrow()\n",
        "    if \"borrowed\" in message:\n",
        "      self.borrowed_books.append(book)\n",
        "    return message\n",
        "  def return_book(self, book):\n",
        "      message = book.return_book()\n",
        "      if \"returned\" in message:\n",
        "          self.borrowed_books.remove(book)\n",
        "      return message\n",
        "\n",
        "  def list_borrowed_books(self):\n",
        "      print(f\"{self.name}'s borrowed books:\")\n",
        "      for book in self.borrowed_books:\n",
        "          print(book)\n"
      ],
      "metadata": {
        "id": "cNWIHVDJtiY9"
      },
      "execution_count": 43,
      "outputs": []
    },
    {
      "cell_type": "code",
      "source": [
        "member = Member(\"John Doe\")\n",
        "print(member.borrow_book(ebook))\n",
        "print(member.borrow_book(printed_book))\n",
        "member.list_borrowed_books()\n",
        "print()\n",
        "print(member.return_book(ebook))\n",
        "member.list_borrowed_books()"
      ],
      "metadata": {
        "colab": {
          "base_uri": "https://localhost:8080/"
        },
        "id": "TtwK-bUaucNT",
        "outputId": "8d7e1936-9e5d-49dd-d035-8eb57da3a725"
      },
      "execution_count": 45,
      "outputs": [
        {
          "output_type": "stream",
          "name": "stdout",
          "text": [
            "You have borrowed '1984'\n",
            "You have borrowed 'To Kill a Mockingbird'\n",
            "John Doe's borrowed books:\n",
            "'1984' by George Orwell (ISBN: 1234567890) [EBook - PDF]\n",
            "'To Kill a Mockingbird' by Harper Lee (ISBN: 0987654321) [Printed Book - 324 pages]\n",
            "\n",
            "You have returned '1984'\n",
            "John Doe's borrowed books:\n",
            "'To Kill a Mockingbird' by Harper Lee (ISBN: 0987654321) [Printed Book - 324 pages]\n"
          ]
        }
      ]
    },
    {
      "cell_type": "markdown",
      "source": [
        "# 파일 입출력"
      ],
      "metadata": {
        "id": "2JR7PGryvMIT"
      }
    },
    {
      "cell_type": "code",
      "source": [
        "# 파일에 문자열 쓰기\n",
        "with open('example.txt', 'w') as file:\n",
        "    file.write(\"Hello, world!\")\n",
        "    file.write(\"This is a new line.\")"
      ],
      "metadata": {
        "id": "kyrRrm9dukT2"
      },
      "execution_count": 52,
      "outputs": []
    },
    {
      "cell_type": "code",
      "source": [
        "# 파일 전체 읽기\n",
        "with open('example.txt', 'r', encoding='utf-8') as file:\n",
        "    content = file.read()\n",
        "    print(content)\n",
        "\n",
        "# 파일 한 줄씩 읽기\n",
        "with open('example.txt', 'r', encoding='utf-8') as file:\n",
        "    line = file.readline()\n",
        "    while line:\n",
        "        print(line, end='')  # 파일 내용 출력 (줄 바꿈 없이)\n",
        "        line = file.readline()\n",
        "print()\n",
        "# 파일 전체를 줄 단위로 읽기\n",
        "with open('example.txt', 'r', encoding='utf-8') as file:\n",
        "    lines = file.readlines()\n",
        "    for line in lines:\n",
        "        print(line, end='')"
      ],
      "metadata": {
        "colab": {
          "base_uri": "https://localhost:8080/"
        },
        "id": "v9mcbcdIvV9V",
        "outputId": "53268266-4670-4b71-a922-1d3712df70cb"
      },
      "execution_count": 54,
      "outputs": [
        {
          "output_type": "stream",
          "name": "stdout",
          "text": [
            "Hello, world!This is a new line.\n",
            "Hello, world!This is a new line.\n",
            "Hello, world!This is a new line."
          ]
        }
      ]
    },
    {
      "cell_type": "markdown",
      "source": [
        "# 고급 파이썬\n",
        "## 데코레이터와 제너레이터"
      ],
      "metadata": {
        "id": "goqlvu6zxLIb"
      }
    },
    {
      "cell_type": "code",
      "source": [
        "# 데코레이터는 함수를 감싸는 함수\n",
        "# 기존 함수에 추가적인 기능 제공 시 사용됨, 재사용 가능한 코드 블록 작성하고, 코드가독성, 유지보수성 높임\n",
        "\n",
        "# 데코레이터는 다른 함수를 인자로 받아 새로운 함수를 리턴\n",
        "def my_decorator(func):\n",
        "  def w():\n",
        "    print(\"Something is happening before the function is called.\")\n",
        "    func()\n",
        "    print(\"Something is happening after the function is called.\")\n",
        "  return w\n",
        "\n",
        "\n",
        "@my_decorator\n",
        "def say_hello():\n",
        "  print(\"hello\")\n",
        "\n",
        "\n",
        "say_hello()"
      ],
      "metadata": {
        "colab": {
          "base_uri": "https://localhost:8080/"
        },
        "id": "CjWA1o3fvXCs",
        "outputId": "ffdd1ba7-6c5e-48d0-be21-7c05b119abc6"
      },
      "execution_count": 60,
      "outputs": [
        {
          "output_type": "stream",
          "name": "stdout",
          "text": [
            "Something is happening before the function is called.\n",
            "hello\n",
            "Something is happening after the function is called.\n"
          ]
        }
      ]
    },
    {
      "cell_type": "code",
      "source": [
        "# 인자를 받는 함수에 데코레이터를 적용하려면, *args와 **kwargs를 사용하여 인자를 전달\n",
        "def my_decorator(func):\n",
        "    def wrapper(*args, **kwargs):\n",
        "        print(\"Something is happening before the function is called.\")\n",
        "        result = func(*args, **kwargs)\n",
        "        print(\"Something is happening after the function is called.\")\n",
        "        return result\n",
        "    return wrapper\n",
        "\n",
        "@my_decorator\n",
        "def say(message):\n",
        "    print(message)\n",
        "\n",
        "say(\"Hello, World!\")"
      ],
      "metadata": {
        "colab": {
          "base_uri": "https://localhost:8080/"
        },
        "id": "EjedyaOFyJrO",
        "outputId": "10cf1adc-25cb-4df3-dfe9-fd115dae967d"
      },
      "execution_count": 63,
      "outputs": [
        {
          "output_type": "stream",
          "name": "stdout",
          "text": [
            "Something is happening before the function is called.\n",
            "Hello, World!\n",
            "Something is happening after the function is called.\n"
          ]
        }
      ]
    },
    {
      "cell_type": "code",
      "source": [
        "def decorator1(func):\n",
        "    def wrapper():\n",
        "        print(\"Decorator 1\")\n",
        "        func()\n",
        "    return wrapper\n",
        "\n",
        "def decorator2(func):\n",
        "    def wrapper():\n",
        "        print(\"Decorator 2\")\n",
        "        func()\n",
        "    return wrapper\n",
        "\n",
        "@decorator1\n",
        "@decorator2\n",
        "def say_hello():\n",
        "    print(\"Hello!\")\n",
        "\n",
        "say_hello()"
      ],
      "metadata": {
        "colab": {
          "base_uri": "https://localhost:8080/"
        },
        "id": "7UHZbg-7zae9",
        "outputId": "d25be476-ba0a-4efe-b235-5a4a92e10ef0"
      },
      "execution_count": 64,
      "outputs": [
        {
          "output_type": "stream",
          "name": "stdout",
          "text": [
            "Decorator 1\n",
            "Decorator 2\n",
            "Hello!\n"
          ]
        }
      ]
    },
    {
      "cell_type": "code",
      "source": [
        "# 제너레이터\n",
        "# 제너레이터는 이터레이터의 일종으로, yield 키워드를 사용하여 값을 하나씩 생성하는 함수\n",
        "def my_generator():\n",
        "  yield 1\n",
        "  yield 2\n",
        "  yield 3\n",
        "\n",
        "gen=my_generator()\n",
        "for val in gen:\n",
        "  print(val)\n",
        "\n",
        "gen=my_generator()\n",
        "for i in range(3):\n",
        "  print(next(gen))\n"
      ],
      "metadata": {
        "colab": {
          "base_uri": "https://localhost:8080/"
        },
        "id": "8qSXVZhxz7K5",
        "outputId": "c3f31f4a-728f-4b3e-b2a3-f10745c9a199"
      },
      "execution_count": 67,
      "outputs": [
        {
          "output_type": "stream",
          "name": "stdout",
          "text": [
            "1\n",
            "2\n",
            "3\n",
            "1\n",
            "2\n",
            "3\n"
          ]
        }
      ]
    },
    {
      "cell_type": "code",
      "source": [
        "# 제너레이터 표현식 - 리스트 컴프리헨션과 비슷한 문법을 사용하지만 소괄호 사용. 메모리 효율적\n",
        "gen_exp=(x**2 for x in range(11))\n",
        "for a in gen_exp:\n",
        "  print(a)"
      ],
      "metadata": {
        "colab": {
          "base_uri": "https://localhost:8080/"
        },
        "id": "qbW2iqy10XZE",
        "outputId": "6a231629-8940-482d-9333-41b6dc5130c5"
      },
      "execution_count": 68,
      "outputs": [
        {
          "output_type": "stream",
          "name": "stdout",
          "text": [
            "0\n",
            "1\n",
            "4\n",
            "9\n",
            "16\n",
            "25\n",
            "36\n",
            "49\n",
            "64\n",
            "81\n",
            "100\n"
          ]
        }
      ]
    },
    {
      "cell_type": "code",
      "source": [
        "# 제너레이터를 이용한 무한 시퀀스\n",
        "def infinite_sequence():\n",
        "  num=0\n",
        "  while True:\n",
        "    yield num\n",
        "    num+=1\n",
        "\n",
        "gen=infinite_sequence()\n",
        "for i in range(10):\n",
        "  print(next(gen))"
      ],
      "metadata": {
        "colab": {
          "base_uri": "https://localhost:8080/"
        },
        "id": "-40i5SKe1Amu",
        "outputId": "39a01585-1533-49aa-9298-8fbdb0d5f072"
      },
      "execution_count": 69,
      "outputs": [
        {
          "output_type": "stream",
          "name": "stdout",
          "text": [
            "0\n",
            "1\n",
            "2\n",
            "3\n",
            "4\n",
            "5\n",
            "6\n",
            "7\n",
            "8\n",
            "9\n"
          ]
        }
      ]
    },
    {
      "cell_type": "code",
      "source": [
        "# 데코레이터와 제너레이터의 결합\n",
        "import time\n",
        "def timing_decorator(func):\n",
        "  def wrapper():\n",
        "    start_time = time.time()\n",
        "    result = func()\n",
        "    end_time = time.time()\n",
        "    print(f\"Function {func.__name__} took {end_time - start_time:.4f} seconds\")\n",
        "    return result\n",
        "  return wrapper\n",
        "\n",
        "@timing_decorator # 함수를 입력으로 받아 새로운 함수 리턴\n",
        "def large_data_processing():\n",
        "  def data_generator(size):\n",
        "    for i in range(size):\n",
        "      yield i\n",
        "  total=0\n",
        "\n",
        "  for v in data_generator(10**6):\n",
        "    total+=v\n",
        "  return total\n",
        "\n",
        "result = large_data_processing()\n",
        "print(f\"Total: {result}\")"
      ],
      "metadata": {
        "colab": {
          "base_uri": "https://localhost:8080/"
        },
        "id": "UJbbumII1W8T",
        "outputId": "9714b9f9-50b9-4a89-f7f3-55719998436a"
      },
      "execution_count": 72,
      "outputs": [
        {
          "output_type": "stream",
          "name": "stdout",
          "text": [
            "Function large_data_processing took 0.0544 seconds\n",
            "Total: 499999500000\n"
          ]
        }
      ]
    },
    {
      "cell_type": "code",
      "source": [
        "from contextlib import contextmanager\n",
        "# contextlib 모듈은 컨텍스트 매니저를 더 쉽게 작성할 수 있는 데코레이터와 헬퍼 함수를 제공\n",
        "\"\"\"\n",
        "헬퍼 함수란?\n",
        "어떤 복잡한 작업을 더 쉽게 처리하거나,\n",
        "자주 반복되는 코드를 간단한 함수로 감싸놓은 것.\n",
        "\n",
        "@contextmanager를 쓰면,\n",
        "with 블록에서 들어갈 때(__enter__)와 나올 때(__exit__) 자동으로 정해진 작업을 실행\n",
        "\"\"\"\n",
        "\n",
        "@contextmanager\n",
        "def open_file(file_name, mode):\n",
        "  # 👉 with 들어갈 때 실행\n",
        "  file=open(file_name, mode)\n",
        "  try:\n",
        "    yield file # 👉 yield된 값이 with 블록 내부에 전달됨\n",
        "  finally:\n",
        "    file.close() # 👉 with 블록 끝나면 실행 (정리, 닫기 등)\n",
        "\n",
        "with open_file('example.txt', 'w') as file:\n",
        "    file.write('Hello, world!')"
      ],
      "metadata": {
        "id": "X51nTjzs3IcV"
      },
      "execution_count": 73,
      "outputs": []
    },
    {
      "cell_type": "code",
      "source": [
        "import time\n",
        "from contextlib import contextmanager\n",
        "\n",
        "@contextmanager\n",
        "def timer():\n",
        "    start_time = time.time()\n",
        "    try:\n",
        "        yield\n",
        "    finally:\n",
        "        end_time = time.time()\n",
        "        print(f\"Elapsed time: {end_time - start_time:.4f} seconds\")\n",
        "\n",
        "# 컨텍스트 매니저 사용\n",
        "with timer():\n",
        "    for _ in range(1000000):\n",
        "        pass"
      ],
      "metadata": {
        "id": "Cz17CAsLCXJE"
      },
      "execution_count": null,
      "outputs": []
    },
    {
      "cell_type": "code",
      "source": [],
      "metadata": {
        "id": "TTPSjxlkCPbA"
      },
      "execution_count": null,
      "outputs": []
    }
  ]
}