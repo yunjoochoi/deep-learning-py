{
  "nbformat": 4,
  "nbformat_minor": 0,
  "metadata": {
    "colab": {
      "provenance": [],
      "authorship_tag": "ABX9TyPH7xLPNEd3Z3yQl4anuPRI",
      "include_colab_link": true
    },
    "kernelspec": {
      "name": "python3",
      "display_name": "Python 3"
    },
    "language_info": {
      "name": "python"
    }
  },
  "cells": [
    {
      "cell_type": "markdown",
      "metadata": {
        "id": "view-in-github",
        "colab_type": "text"
      },
      "source": [
        "<a href=\"https://colab.research.google.com/github/yunjoochoi/deep-learning-py/blob/main/4_neural_network.ipynb\" target=\"_parent\"><img src=\"https://colab.research.google.com/assets/colab-badge.svg\" alt=\"Open In Colab\"/></a>"
      ]
    },
    {
      "cell_type": "code",
      "source": [
        "# dezero.core.py\n",
        "\n",
        "class Config: # 역전파 활성화 모드\n",
        "  enable_backprop=True\n",
        "  #  함수들\n",
        "import contextlib\n",
        "import numpy as np\n",
        "@contextlib.contextmanager\n",
        "def using_config(name, value):\n",
        "  old_value=getattr(Config, name)\n",
        "  setattr(Config, name, value)\n",
        "  try:\n",
        "    yield # 컨텍스트 블록 실행 (이 부분에서 실행 흐름이 사용자 코드로 넘어감)\n",
        "  finally:\n",
        "    setattr(Config, name, old_value)\n",
        "\n",
        "def no_grad():\n",
        "  return using_config('enable_backprop',False)\n",
        "\n",
        "def as_array(x):\n",
        "  if np.isscalar(x): #numpy.float64같은 스칼라타입인지 확인\n",
        "    return np.array(x)\n",
        "  return x\n",
        "\n",
        "def as_variable(obj): # np인스턴스와 함꼐 입력되도 오류없이 수행\n",
        "  if isinstance(obj, Variable):\n",
        "    return obj\n",
        "  return Variable(obj)\n",
        "\n",
        "import weakref\n",
        "\n",
        "class Variable:\n",
        "  __array_priority__=200\n",
        "  def __init__(self, data, name=None):\n",
        "    if data is not None:\n",
        "      if not isinstance(data, np.ndarray):\n",
        "        raise TypeError(\"{}은 지원 불가\".format(type(data)))\n",
        "    self.data=data\n",
        "    self.name=name # 많은 변수 처리 -> 이름 필요 -> 인스턴스 변수 추가\n",
        "    self.grad=None\n",
        "    self.creator=None\n",
        "    self.generation=0\n",
        "\n",
        "  def set_creator(self, func):\n",
        "    self.creator=func\n",
        "    self.generation=func.generation+1 # 부모 세대 함수보다 1만큼 큰 값 설정\n",
        "\n",
        "  def backward(self, retain_grad=False, create_graph=False): # retain_grad: 필요 없는 미분값 삭제 / 보통 말단 변수 미분값만이 필요\n",
        "    if self.grad is None:\n",
        "      self.grad=Variable(np.ones_like(self.data)) # 고차 미분 구현 위해 Variable class로 감쌈\n",
        "\n",
        "    funcs=[]\n",
        "    seen_set=set()\n",
        "    def add_func(f):\n",
        "      if f not in seen_set:\n",
        "        funcs.append(f)\n",
        "        seen_set.add(f)\n",
        "        funcs.sort(key=lambda x:x.generation)\n",
        "\n",
        "    add_func(self.creator)\n",
        "\n",
        "    while funcs:\n",
        "      f=funcs.pop()\n",
        "      gys=[output().grad for output in f.outputs] #약한 참조로 바꿨으므로 ()추가하여 수정\n",
        "\n",
        "      # 역전파를 단 한번만 수행하게 수정\n",
        "      with using_config('enable_backprop', create_graph): # 역전파 비활성 모드로 역전파 처리 생략 (계산그래프 생성/입력 변수 유지 등 생략)\n",
        "        gxs=f.backward(*gys) # 메인 역전파 (Var끼리의 연산으로 바꾸었기 때문에 f.backward내에서 순전파 실행됨. 이때 연결 생성되는데, creat_graph인수로 이를 막음. 고차 미분 시행시는 이 인수를True로 둔다)\n",
        "        # gx*x1 등 불필요한 고차 미분시의 연결을 사전에 차단하는 방식.\n",
        "        if not isinstance(gxs, tuple):\n",
        "         gxs=(gxs,)\n",
        "        for x, gx in zip(f.inputs, gxs):\n",
        "          if x.grad is None:\n",
        "            x.grad=gx\n",
        "          else:\n",
        "            x.grad = x.grad + gx\n",
        "          if x.creator is not None:\n",
        "            add_func(x.creator)\n",
        "\n",
        "      if not retain_grad: # 말단 변수 아닐시 미분값 삭제\n",
        "        for y in f.outputs:\n",
        "          y().grad=None\n",
        "\n",
        "  #Variable 클래스에 추가\n",
        "  def reshape(self, *shape):\n",
        "    if len(shape)==1 and isinstance(shape[0], (tuple, list)):\n",
        "      shape=shape[0]\n",
        "    return reshape(self, shape)\n",
        "\n",
        "  def transpose(self, *axes):\n",
        "    if len(axes) == 0:\n",
        "      axes = None\n",
        "    elif len(axes) == 1:\n",
        "      if isinstance(axes[0], (tuple, list)) or axes[0] is None:\n",
        "        axes = axes[0]\n",
        "    return transpose(self, axes)\n",
        "\n",
        "  def sum(self,axis=None,keepdims=False):\n",
        "    return sum(self, axis, keepdims)\n",
        "\n",
        "  def cleargrad(self):\n",
        "    self.grad=None\n",
        "\n",
        "  # 목표: Variable을 ndarray처럼 보이게 만드는 것\n",
        "  @property # transpose 함수 추가\n",
        "  def T(self): # 인스턴스 변수\n",
        "    return transpose(self)\n",
        "\n",
        "  @property # 인스턴스 변수처럼 사용할수 있게 함 x.shape() -> x.shape\n",
        "  def shape(self):\n",
        "    return self.data.shape\n",
        "\n",
        "  @property\n",
        "  def ndim(self):\n",
        "    return self.data.ndim\n",
        "\n",
        "  @property\n",
        "  def size(self):\n",
        "    return self.data.size\n",
        "\n",
        "  @property\n",
        "  def dtype(self):\n",
        "    return self.data.dtype\n",
        "\n",
        "  def __len__(self): # 특수 메서드\n",
        "    return len(self.data)\n",
        "\n",
        "  def __repr__(self): # print함수 출력값 수정하려면  __repr__재정의\n",
        "    if self.data is None:\n",
        "      return 'variable(None)'\n",
        "    p=str(self.data).replace('\\n','\\n'+''*9)\n",
        "    return 'variable('+p+')'\n",
        "\n",
        "  # # 함수식 거추장-> 연산자 오버로드\n",
        "  # def __mul__(self, other): #self=a전달, other=b전달\n",
        "  #   return mul(self, other)\n",
        "\n",
        "class Function:\n",
        "  def __call__(self, *inputs):\n",
        "    inputs=[as_variable(x) for x in inputs]\n",
        "    xs=[x.data for x in inputs]\n",
        "    ys=self.forward(*xs)\n",
        "    if not isinstance(ys, tuple):\n",
        "      ys=(ys,)\n",
        "    outputs=[Variable(as_array(y)) for y in ys]\n",
        "\n",
        "    if Config.enable_backprop: # 역전파 모드에서만 연결 연산 수행\n",
        "      # 입력 변수 세대중에 가장 큰 세대 값으로 함수의 세대 설정\n",
        "      self.generation=max([x.generation for x in inputs])\n",
        "      for output in outputs:\n",
        "        output.set_creator(self)\n",
        "      self.inputs=inputs\n",
        "      self.outputs=[weakref.ref(output) for output in outputs] # 약한 참조로 수정\n",
        "\n",
        "    return outputs if len(outputs)>1 else outputs[0]\n",
        "\n",
        "  def forward(self, xs):\n",
        "    raise NotImplementedError()\n",
        "\n",
        "  def backward(self, gys):\n",
        "    raise NotImplementedError()\n",
        "\n",
        "class Square(Function):\n",
        "  def forward(self, x):\n",
        "    y=x**2\n",
        "    return y\n",
        "  def backward(self, gy):\n",
        "    x=self.inputs[0].data\n",
        "    gx=2*x*gy\n",
        "    return gx\n",
        "\n",
        "class Add(Function):\n",
        "  def forward(self, x0,x1):\n",
        "    self.x0_shape, self.x1_shape=x0.shape, x1.shape\n",
        "    y=x0+x1 # 브로드캐스트 저절로 일어나는 부분(np 라서)\n",
        "    return y\n",
        "\n",
        "  def backward(self, gy):\n",
        "    gx0, gx1= gy,gy\n",
        "    if self.x0_shape!=self.x1_shape:\n",
        "      gx0=sum_to(gx0, self.x0_shape)\n",
        "      gx1=sum_to(gx1, self.x1_shape)\n",
        "    return gx0,gx1 #상류에서 흘러오는 미분값을 그대로 흘려보내는 것이 덧셈의 역전파(미분시, gy*1이라서)\n",
        "\n",
        "def square(x):\n",
        "  return Square()(x)\n",
        "def add(x0,x1):\n",
        "  x1=as_array(x1) #x1가 float등일 경우 ndarray인스턴스로 변환\n",
        "  return Add()(x0,x1)\n",
        "\n",
        "class Mul(Function):\n",
        "  def forward(self, x0, x1):\n",
        "    y=x0*x1\n",
        "    return y\n",
        "\n",
        "  def backward(self, gy):\n",
        "    x0, x1=self.inputs[0], self.inputs[1] # x0, x1은 Variable class (gy 도)\n",
        "    return gy*x1, gy*x0 # Variable class의 *연산자는 이미 오버로드 되어있어 순전파 호출\n",
        "\n",
        "def mul(x0,x1):\n",
        "  x1=as_array(x1) #x1가 float등일 경우 ndarray인스턴스로 변환\n",
        "  return Mul()(x0,x1)\n",
        "\n",
        "\n",
        "\n",
        "class Neg(Function):\n",
        "  def forward(self,x):\n",
        "    return -x\n",
        "  def backward(self, gy):\n",
        "    return -gy\n",
        "def neg(x):\n",
        "  return Neg()(x)\n",
        "\n",
        "class Sub(Function):\n",
        "  def forward(self, x0,x1):\n",
        "    return x0-x1\n",
        "  def backward(self, gy):\n",
        "    return gy,-gy\n",
        "\n",
        "def sub(x0,x1):\n",
        "  x1=as_array(x1)\n",
        "  return Sub()(x0,x1)\n",
        "\n",
        "def rsub(x0,x1):\n",
        "  x1=as_array(x1)\n",
        "  return Sub()(x1,x0)\n",
        "\n",
        "class Div(Function):\n",
        "  def forward(self, x0,x1):\n",
        "    y=x0/x1\n",
        "    return y\n",
        "  def backward(self, gy):\n",
        "    x0,x1=self.inputs[0], self.inputs[1]\n",
        "    return gy*(1/x1), gy*(-x0/x1**2)\n",
        "\n",
        "def div(x0,x1):\n",
        "  x1=as_array(x1)\n",
        "  return Div()(x0,x1)\n",
        "\n",
        "def rdiv(x0,x1):\n",
        "  x1=as_array(x1)\n",
        "  return Div()(x1,x0)\n",
        "\n",
        "class Pow(Function):\n",
        "  def __init__(self, c):\n",
        "    self.c=c\n",
        "  def forward(self, x):\n",
        "    y=x**self.c\n",
        "    return y\n",
        "  def backward(self, gy):\n",
        "    x=self.inputs[0]\n",
        "    return gy*(self.c*x**(self.c-1))\n",
        "\n",
        "def pow(x,c):\n",
        "  x=as_array(x)\n",
        "  return Pow(c)(x)\n",
        "\n",
        "def setup_variable():\n",
        "  Variable.__add__=add\n",
        "  Variable.__radd__=add\n",
        "  Variable.__mul__=mul\n",
        "  Variable.__rmul__=mul\n",
        "  Variable.__rsub__=rsub\n",
        "  Variable.__sub__=sub\n",
        "  Variable.__neg__=neg\n",
        "  Variable.__truediv__=div\n",
        "  Variable.__rtruediv__=rdiv\n",
        "  Variable.__pow__=pow\n",
        "\n",
        "setup_variable()\n",
        "\n",
        "# dezero/functions.py\n",
        "\n",
        "# Sin함수 구현\n",
        "class Sin(Function):\n",
        "  def forward(self,x):\n",
        "    y=np.sin(x)\n",
        "    return y\n",
        "  def backward(self, gy):\n",
        "    x,=self.inputs # self.inputs[0] 대신 간단하게 사용\n",
        "    gx=cos(x)*gy  # dezero의 cos\n",
        "    return gx\n",
        "def sin(x):\n",
        "  return Sin()(x)\n",
        "\n",
        "# Cos함수 구현\n",
        "class Cos(Function):\n",
        "  def forward(self, x):\n",
        "    return np.cos(x)\n",
        "  def backward(self, gy):\n",
        "    x,=self.inputs\n",
        "    return gy*-sin(x)\n",
        "def cos(x):\n",
        "  return Cos()(x)\n",
        "\n",
        "# tanh 함수 구현\n",
        "class Tanh(Function):\n",
        "  def forward(self,x):\n",
        "    y=np.tanh(x)\n",
        "    return y\n",
        "  def backward(self, gy):\n",
        "    y=self.outputs[0]()\n",
        "    return gy*(1-y**2)\n",
        "def tanh(x):\n",
        "  return Tanh()(x)\n",
        "\n",
        "class Exp(Function):\n",
        "  def forward(self, x):\n",
        "    return np.exp(x)\n",
        "  def backward(self, gy):\n",
        "    x,=self.inputs\n",
        "    return np.exp(x)*gy\n",
        "def exp(x):\n",
        "  return Exp()(x)"
      ],
      "metadata": {
        "id": "td_Aq8r2QxM8"
      },
      "execution_count": 73,
      "outputs": []
    },
    {
      "cell_type": "code",
      "execution_count": 3,
      "metadata": {
        "colab": {
          "base_uri": "https://localhost:8080/"
        },
        "id": "hw43b2Z_QP16",
        "outputId": "d153e9b3-02fc-4712-e26c-34aa472a5d38"
      },
      "outputs": [
        {
          "output_type": "stream",
          "name": "stdout",
          "text": [
            "variable([[11 22 33]\n",
            " [44 55 66]])\n"
          ]
        }
      ],
      "source": [
        "# 현재까지는 변수로 주로 스칼라만을 취급해왔지만, 머신러닝에서는 텐서(다차원 배열)을 사용\n",
        "x=Variable(np.array([[1,2,3],[4,5,6]]))\n",
        "c=Variable(np.array([[10,20,30],[40,50,60]]))\n",
        "y= x + c\n",
        "print(y)"
      ]
    },
    {
      "cell_type": "code",
      "source": [
        "# x,c의 형상이 같아야 하지만 넘파이는 브로드캐스트 기능 지원\n",
        "# 마지막 출력이 스칼라인 계산 그래프에 대한 역전파\n",
        "# 기울기 형상과 데이터(순전파) 형상은 일치한다\n",
        "# 이전까지 구현했던 스칼라별 연산 수행하는 함수에 텐서 입력해도 역전파 성립"
      ],
      "metadata": {
        "id": "Ti5798SNRwGe"
      },
      "execution_count": 1,
      "outputs": []
    },
    {
      "cell_type": "code",
      "source": [
        "x=np.array([[1,2,3],[4,5,6]])\n",
        "y=np.reshape(x,(6,)) # 넘파이의 형상 변환 함수\n",
        "print(y)"
      ],
      "metadata": {
        "colab": {
          "base_uri": "https://localhost:8080/"
        },
        "id": "qak50g1rAuH2",
        "outputId": "1f4e439f-364a-4820-ef82-f90374950c3f"
      },
      "execution_count": 3,
      "outputs": [
        {
          "output_type": "stream",
          "name": "stdout",
          "text": [
            "[1 2 3 4 5 6]\n"
          ]
        }
      ]
    },
    {
      "cell_type": "markdown",
      "source": [
        "### reshape 구현"
      ],
      "metadata": {
        "id": "u-jknCe6JeKt"
      }
    },
    {
      "cell_type": "code",
      "source": [
        "# 텐서 reshape함수는 아무 연산 수행X, 대신 모양만 바꾼다\n",
        "class Reshape(Function):\n",
        "  def __init__(self, shape):\n",
        "    self.shape=shape\n",
        "\n",
        "  def forward(self, x):\n",
        "    self.x_shape=x.shape\n",
        "    y=x.reshape(self.shape)\n",
        "    return y\n",
        "\n",
        "  def backward(self, gy):\n",
        "    return reshape(gy, self.x_shape) # gy는 Variable인스턴스므로 dezero의 리셰입 써야함\n",
        "\n",
        "def reshape(x, shape):\n",
        "  if x.shape==shape:\n",
        "    return as_variable(x)\n",
        "  return Reshape(shape)(x)\n"
      ],
      "metadata": {
        "id": "gn1O8oxPA6vU"
      },
      "execution_count": 13,
      "outputs": []
    },
    {
      "cell_type": "code",
      "source": [
        "x=Variable(np.array([[1,2,3],[4,5,6]]))\n",
        "y=reshape(x, (6,))\n",
        "y.backward(retain_grad=True) #y.grad = #variable([[1 1 1 1 1 1 ])\n",
        "print(x.grad) #variable([[1 1 1] [1 1 1]])"
      ],
      "metadata": {
        "colab": {
          "base_uri": "https://localhost:8080/"
        },
        "id": "sS5L0jS2FUWu",
        "outputId": "f9c0ac51-836c-4572-b3f9-dd3f9b8cb48d"
      },
      "execution_count": 14,
      "outputs": [
        {
          "output_type": "stream",
          "name": "stdout",
          "text": [
            "variable([[1 1 1]\n",
            " [1 1 1]])\n"
          ]
        }
      ]
    },
    {
      "cell_type": "code",
      "source": [
        "x=np.random.rand(1,2,3)\n",
        "print(x)\n",
        "y=x.reshape((2,3))\n",
        "print(y)\n",
        "y=x.reshape([2,3])\n",
        "print(y)\n",
        "y=x.reshape(2,3)\n",
        "print(y)\n",
        "# 모두 같은 동작, 이를 디제로로 구현"
      ],
      "metadata": {
        "colab": {
          "base_uri": "https://localhost:8080/"
        },
        "id": "5vyQDdk4GQv5",
        "outputId": "157b300f-e49b-40c1-e73a-c67e2c95c738"
      },
      "execution_count": 15,
      "outputs": [
        {
          "output_type": "stream",
          "name": "stdout",
          "text": [
            "[[[0.72817274 0.72569157 0.16327641]\n",
            "  [0.29343906 0.21681039 0.90523927]]]\n",
            "[[0.72817274 0.72569157 0.16327641]\n",
            " [0.29343906 0.21681039 0.90523927]]\n",
            "[[0.72817274 0.72569157 0.16327641]\n",
            " [0.29343906 0.21681039 0.90523927]]\n",
            "[[0.72817274 0.72569157 0.16327641]\n",
            " [0.29343906 0.21681039 0.90523927]]\n"
          ]
        }
      ]
    },
    {
      "cell_type": "code",
      "source": [
        "x=Variable(np.random.randn(1,2,3))\n",
        "y=x.reshape((2,3))\n",
        "y=x.reshape(2,3)\n",
        "# 이제 인스턴스의 메서드 형태로도 호출 가능"
      ],
      "metadata": {
        "id": "MWY4GOQHG9O8"
      },
      "execution_count": 17,
      "outputs": []
    },
    {
      "cell_type": "markdown",
      "source": [
        "### 행렬 전치"
      ],
      "metadata": {
        "id": "1TOPPDFXJW05"
      }
    },
    {
      "cell_type": "code",
      "source": [
        "x=np.array([[1,2,3],[4,5,6]])\n",
        "y=np.transpose(x)\n",
        "print(y)"
      ],
      "metadata": {
        "colab": {
          "base_uri": "https://localhost:8080/"
        },
        "id": "rDWYd8GZJOqM",
        "outputId": "ee1a4fc2-f7e9-4fe3-eada-6e86e986ba0c"
      },
      "execution_count": 18,
      "outputs": [
        {
          "output_type": "stream",
          "name": "stdout",
          "text": [
            "[[1 4]\n",
            " [2 5]\n",
            " [3 6]]\n"
          ]
        }
      ]
    },
    {
      "cell_type": "code",
      "source": [
        "class Transpose(Function):\n",
        "  def forward(self, x):\n",
        "    y=np.transpose(x)\n",
        "    return y\n",
        "\n",
        "  def backward(self,gy):\n",
        "    gx=transpose(gy)\n",
        "    return gx\n",
        "\n",
        "def transpose(x):\n",
        "  return Transpose()(x)\n",
        "\n",
        "x=np.random.rand(1,2,3,4)\n",
        "x.transpose(1,0,3,2)"
      ],
      "metadata": {
        "id": "4o-OmaSlJsGx"
      },
      "execution_count": 24,
      "outputs": []
    },
    {
      "cell_type": "markdown",
      "source": [
        "### 브로드캐스트 함수"
      ],
      "metadata": {
        "id": "FIRwlDBzaj_2"
      }
    },
    {
      "cell_type": "code",
      "source": [
        "# utils에서 가져옴\n",
        "def utils_sum_to(x, shape):\n",
        "    \"\"\"Sum elements along axes to output an array of a given shape.\n",
        "\n",
        "    Args:\n",
        "        x (ndarray): Input array.\n",
        "        shape:\n",
        "\n",
        "    Returns:\n",
        "        ndarray: Output array of the shape.\n",
        "    \"\"\"\n",
        "    ndim = len(shape)\n",
        "    lead = x.ndim - ndim\n",
        "    lead_axis = tuple(range(lead))\n",
        "\n",
        "    axis = tuple([i + lead for i, sx in enumerate(shape) if sx == 1])\n",
        "    y = x.sum(lead_axis + axis, keepdims=True)\n",
        "    if lead > 0:\n",
        "        y = y.squeeze(lead_axis)\n",
        "    return y\n",
        "\n",
        "\n",
        "def reshape_sum_backward(gy, x_shape, axis, keepdims):\n",
        "    \"\"\"Reshape gradient appropriately for dezero.functions.sum's backward.\n",
        "\n",
        "    Args:\n",
        "        gy (dezero.Variable): Gradient variable from the output by backprop.\n",
        "        x_shape (tuple): Shape used at sum function's forward.\n",
        "        axis (None or int or tuple of ints): Axis used at sum function's\n",
        "            forward.\n",
        "        keepdims (bool): Keepdims used at sum function's forward.\n",
        "\n",
        "    Returns:\n",
        "        dezero.Variable: Gradient variable which is reshaped appropriately\n",
        "    \"\"\"\n",
        "    ndim = len(x_shape)\n",
        "    tupled_axis = axis\n",
        "    if axis is None:\n",
        "        tupled_axis = None\n",
        "    elif not isinstance(axis, tuple):\n",
        "        tupled_axis = (axis,)\n",
        "\n",
        "    if not (ndim == 0 or tupled_axis is None or keepdims):\n",
        "        actual_axis = [a if a >= 0 else a + ndim for a in tupled_axis]\n",
        "        shape = list(gy.shape)\n",
        "        for a in sorted(actual_axis):\n",
        "            shape.insert(a, 1)\n",
        "    else:\n",
        "        shape = gy.shape\n",
        "\n",
        "    gy = gy.reshape(shape)  # reshape\n",
        "    return gy\n"
      ],
      "metadata": {
        "id": "Y8RKx4O7f6ZM"
      },
      "execution_count": 49,
      "outputs": []
    },
    {
      "cell_type": "code",
      "source": [
        "x=np.array([1,2,3])\n",
        "y=np.broadcast_to(x,(2,3))\n",
        "print(y)"
      ],
      "metadata": {
        "colab": {
          "base_uri": "https://localhost:8080/"
        },
        "id": "G9Gisw0DamQe",
        "outputId": "8a61ed9e-2a49-4899-edbd-dda1668ffc4a"
      },
      "execution_count": 34,
      "outputs": [
        {
          "output_type": "stream",
          "name": "stdout",
          "text": [
            "[[1 2 3]\n",
            " [1 2 3]]\n"
          ]
        }
      ]
    },
    {
      "cell_type": "code",
      "source": [
        "x=np.array([[1,2,3],[4,5,6]])\n",
        "y=sum_to(x,(1,3))\n",
        "print(y)\n",
        "\n",
        "y=sum_to(x,(2,1))\n",
        "print(y)"
      ],
      "metadata": {
        "colab": {
          "base_uri": "https://localhost:8080/"
        },
        "id": "AHqFRhJ4amMs",
        "outputId": "8f274b97-fbb9-47d1-b52d-e8470b4d0fed"
      },
      "execution_count": 41,
      "outputs": [
        {
          "output_type": "stream",
          "name": "stdout",
          "text": [
            "[[5 7 9]]\n",
            "[[ 6]\n",
            " [15]]\n"
          ]
        }
      ]
    },
    {
      "cell_type": "code",
      "source": [
        "class BroadcastTo(Function):\n",
        "  def __init__(self, shape):\n",
        "    self.shape=shape\n",
        "  def forward(self, x):\n",
        "    self.x_shape=x.shape\n",
        "    return np.broadcast_to(x, self.shape)\n",
        "  def backward(self, gy):\n",
        "    gx=sum_to(gy, self.x_shape)\n",
        "    return gx\n",
        "\n",
        "def broadcast_to(x, shape):\n",
        "  if x.shape==shape:\n",
        "    return as_variable(x)\n",
        "  return BroadcastTo(shape)(x)\n",
        "\n",
        "class SumTo(Function):\n",
        "  def __init__(self, shape):\n",
        "    self.shape=shape\n",
        "  def forward(self, x):\n",
        "    self.x_shape=x.shape\n",
        "    y=utils_sum_to(x, self.shape)\n",
        "    return y\n",
        "  def backward(self, gy):\n",
        "    gx=broadcast_to(gy, self.x_shape)\n",
        "    return gx\n",
        "def sum_to(x,shape):\n",
        "  if x.shape==shape:\n",
        "    return as_variable(x)\n",
        "  return SumTo(shape)(x)"
      ],
      "metadata": {
        "id": "zTdWlJEggfC9"
      },
      "execution_count": 43,
      "outputs": []
    },
    {
      "cell_type": "code",
      "source": [
        "x0=Variable(np.array([1,2,3])) # 벡터 내에서의 덧셈연산 역전파는 가능하지만, Var끼리 덧셈시 브로드캐스트되는 경우는?\n",
        "x1=Variable(np.array([10]))\n",
        "y=x0+x1\n",
        "print(y)\n",
        "y.backward()\n",
        "print(x0.grad, x1.grad) # x1.grad가 제대로 출력되지 않음\n",
        "# Add class수정 필요"
      ],
      "metadata": {
        "colab": {
          "base_uri": "https://localhost:8080/"
        },
        "id": "JFy8DTcMge6c",
        "outputId": "b45d7847-1956-4cee-8e44-dfc9cc0e745f"
      },
      "execution_count": 46,
      "outputs": [
        {
          "output_type": "stream",
          "name": "stdout",
          "text": [
            "variable([11 12 13])\n",
            "variable([1 1 1]) variable([1 1 1])\n"
          ]
        }
      ]
    },
    {
      "cell_type": "code",
      "source": [
        "# 수정 후\n",
        "x0=Variable(np.array([1,2,3]))\n",
        "x1=Variable(np.array([10]))\n",
        "y=x0+x1\n",
        "print(y)\n",
        "y.backward()\n",
        "print(x0.grad, x1.grad)"
      ],
      "metadata": {
        "colab": {
          "base_uri": "https://localhost:8080/"
        },
        "id": "2OfNW2_EmS_s",
        "outputId": "38970473-4039-499d-df8b-7372ee5eecd2"
      },
      "execution_count": 50,
      "outputs": [
        {
          "output_type": "stream",
          "name": "stdout",
          "text": [
            "variable([11 12 13])\n",
            "variable([1 1 1]) variable([3])\n"
          ]
        }
      ]
    },
    {
      "cell_type": "markdown",
      "source": [
        "### 합계 함수"
      ],
      "metadata": {
        "id": "iPYxlMVAQMI_"
      }
    },
    {
      "cell_type": "code",
      "source": [
        "class Sum(Function):\n",
        "  def __init__(self, axis,keepdims):\n",
        "    self.axis=axis\n",
        "    self.keepdims=keepdims\n",
        "\n",
        "  def forward(self, x):\n",
        "    self.x_shape=x.shape\n",
        "    y=x.sum(axis=self.axis, keepdims=self.keepdims)\n",
        "    return y\n",
        "\n",
        "  def backward(self,gy):\n",
        "    gy=reshape_sum_backward(gy, self.x_shape, self.axis, self.keepdims) #넘파이문제로, 신경쓸필요없음\n",
        "    gx=broadcast_to(gy, self.x_shape)\n",
        "    return gx\n",
        "def sum(x,axis=None,keepdims=False):\n",
        "  return Sum(axis,keepdims)(x)\n",
        "\n",
        "x=Variable(np.array([[1,2,3],[4,5,6]]))\n",
        "y=sum(x, axis=0)\n",
        "y.backward()\n",
        "print(y)\n",
        "print(x.grad)"
      ],
      "metadata": {
        "colab": {
          "base_uri": "https://localhost:8080/"
        },
        "id": "5CRPWRbLM4RQ",
        "outputId": "83ae9766-f22b-4bae-b82c-763525a66181"
      },
      "execution_count": 45,
      "outputs": [
        {
          "output_type": "stream",
          "name": "stdout",
          "text": [
            "variable([5 7 9])\n",
            "variable([[1 1 1]\n",
            " [1 1 1]])\n"
          ]
        }
      ]
    },
    {
      "cell_type": "markdown",
      "source": [
        "### 행렬의 곱"
      ],
      "metadata": {
        "id": "c40XnurUokVl"
      }
    },
    {
      "cell_type": "code",
      "source": [
        "# 행렬의 곱과 행렬의 내적 - 넘파이\n",
        "# 모두 1차원 배열이면 내적 계산\n",
        "a=np.array([1,2,3])\n",
        "b=np.array([4,5,6])\n",
        "c=np.dot(a,b)\n",
        "print(c)\n",
        "\n",
        "# 2차원 배열 이상이면 행렬곱 계산\n",
        "a=np.array([[1,2],[3,4]])\n",
        "b=np.array([[5,6],[7,8]])\n",
        "c=np.dot(a,b)\n",
        "print(c)"
      ],
      "metadata": {
        "colab": {
          "base_uri": "https://localhost:8080/"
        },
        "id": "iIeFDafQOMcd",
        "outputId": "58592350-1e18-4734-a21d-347fbb2f3c9c"
      },
      "execution_count": 63,
      "outputs": [
        {
          "output_type": "stream",
          "name": "stdout",
          "text": [
            "32\n",
            "[[19 22]\n",
            " [43 50]]\n"
          ]
        }
      ]
    },
    {
      "cell_type": "code",
      "source": [
        "class MatMul(Function):\n",
        "  def forward(self, x,W):\n",
        "    y=x.dot(W)\n",
        "    return y\n",
        "  def backward(self, gy):\n",
        "    x, W=self.inputs #Var형태로 받아야 밑에서 연산연결 생김\n",
        "    gx=matmul(gy, W.T)\n",
        "    gW=matmul(x.T, gy)\n",
        "    return gx,gW\n",
        "\n",
        "def matmul(x,W):\n",
        "  return MatMul()(x,W)"
      ],
      "metadata": {
        "id": "tQsGki5mUoRf"
      },
      "execution_count": 64,
      "outputs": []
    },
    {
      "cell_type": "code",
      "source": [
        "x=Variable(np.random.randn(2,3))\n",
        "W=Variable(np.random.randn(3,4))\n",
        "y=matmul(x,W)\n",
        "y.backward()\n",
        "\n",
        "print(x.grad.shape) # = x.shape\n",
        "print(W.grad.shape) # = W.shape"
      ],
      "metadata": {
        "colab": {
          "base_uri": "https://localhost:8080/"
        },
        "id": "B7Zdxx-Htcs9",
        "outputId": "02d64ccc-43b2-46ec-eeba-19b444c1578b"
      },
      "execution_count": 65,
      "outputs": [
        {
          "output_type": "stream",
          "name": "stdout",
          "text": [
            "(2, 3)\n",
            "(3, 4)\n"
          ]
        }
      ]
    },
    {
      "cell_type": "markdown",
      "source": [
        "## 선형 회귀"
      ],
      "metadata": {
        "id": "d-ZQsXAMuP-Y"
      }
    },
    {
      "cell_type": "code",
      "source": [
        "# 토이 데이터셋\n",
        "np.random.seed(0)\n",
        "x=np.random.rand(100,1) # 0과 1 사이의 난수\n",
        "y=5+2*x+np.random.rand(100,1) # 맨 마지막 항은 노이즈\n",
        "\n",
        "W=Variable(np.zeros((1,1))) # x와 행렬곱하게 차원 맞춤\n",
        "b=Variable(np.zeros(1))\n",
        "\n",
        "def predict(x):\n",
        "  y=matmul(x,W)+b\n",
        "  return y"
      ],
      "metadata": {
        "id": "aPLUjUSEuxaK"
      },
      "execution_count": 66,
      "outputs": []
    },
    {
      "cell_type": "code",
      "source": [
        "class MeanSquaredError(Function): #sample_mean_squared_error보다 불필요한 변수연결 없애서 효율 증가\n",
        "  def forward(self, x0,x1):\n",
        "    diff=x0-x1 # Function 상속받아서 이제 넘파이임\n",
        "    y=(diff**2).sum()/len(diff)\n",
        "    return y\n",
        "  def backward(self, gy):\n",
        "    x0,x1=self.inputs\n",
        "    diff=x0-x1\n",
        "    gx0=gy*diff*(2./len(diff))\n",
        "    gx1=-gx0\n",
        "    return gx0, gx1\n",
        "def mean_squared_error(x0,x1):\n",
        "  return MeanSquaredError()(x0,x1)"
      ],
      "metadata": {
        "id": "HmE5RY2wEaLP"
      },
      "execution_count": 68,
      "outputs": []
    },
    {
      "cell_type": "code",
      "source": [
        "def sample_mean_squared_error(x0, x1):\n",
        "  diff=x1-x0\n",
        "  return sum(diff**2/len(diff))\n",
        "\n",
        "lr=0.1\n",
        "iters=100\n",
        "\n",
        "for i in range(iters):\n",
        "  y_pred=predict(x)\n",
        "\n",
        "  loss=mean_squared_error(y, y_pred)\n",
        "\n",
        "  W.cleargrad()\n",
        "  b.cleargrad()\n",
        "  loss.backward()\n",
        "\n",
        "  W.data-=lr*W.grad.data\n",
        "  b.data-=lr*b.grad.data\n",
        "  print(W,b,loss)"
      ],
      "metadata": {
        "colab": {
          "base_uri": "https://localhost:8080/"
        },
        "id": "m9TqeKt4wRzr",
        "outputId": "af10955b-24fe-4a72-b19a-ad48b62bc368"
      },
      "execution_count": 69,
      "outputs": [
        {
          "output_type": "stream",
          "name": "stdout",
          "text": [
            "variable([[2.11563939]]) variable([5.46732269]) variable(0.07901006311507543)\n",
            "variable([[2.11323774]]) variable([5.46853978]) variable(0.07893608587689341)\n",
            "variable([[2.1108683]]) variable([5.46974056]) variable(0.07886407946761541)\n",
            "variable([[2.10853063]]) variable([5.47092523]) variable(0.07879399138235389)\n",
            "variable([[2.10622431]]) variable([5.47209401]) variable(0.07872577051500503)\n",
            "variable([[2.10394892]]) variable([5.47324712]) variable(0.07865936712098352)\n",
            "variable([[2.10170404]]) variable([5.47438477]) variable(0.07859473278095046)\n",
            "variable([[2.09948927]]) variable([5.47550715]) variable(0.0785318203655074)\n",
            "variable([[2.0973042]]) variable([5.47661449]) variable(0.07847058400083115)\n",
            "variable([[2.09514843]]) variable([5.47770698]) variable(0.07841097903522362)\n",
            "variable([[2.09302157]]) variable([5.47878482]) variable(0.07835296200655356)\n",
            "variable([[2.09092323]]) variable([5.4798482]) variable(0.07829649061056518)\n",
            "variable([[2.08885304]]) variable([5.48089732]) variable(0.07824152367003082)\n",
            "variable([[2.0868106]]) variable([5.48193237]) variable(0.07818802110472638)\n",
            "variable([[2.08479556]]) variable([5.48295355]) variable(0.07813594390220562)\n",
            "variable([[2.08280754]]) variable([5.48396103]) variable(0.07808525408935346)\n",
            "variable([[2.08084617]]) variable([5.48495499]) variable(0.07803591470469735)\n",
            "variable([[2.07891111]]) variable([5.48593563]) variable(0.07798788977145595)\n",
            "variable([[2.07700201]]) variable([5.48690312]) variable(0.0779411442713061)\n",
            "variable([[2.0751185]]) variable([5.48785763]) variable(0.07789564411884814)\n",
            "variable([[2.07326025]]) variable([5.48879934]) variable(0.07785135613675237)\n",
            "variable([[2.07142692]]) variable([5.48972843]) variable(0.07780824803156683)\n",
            "variable([[2.06961818]]) variable([5.49064505]) variable(0.07776628837017004)\n",
            "variable([[2.06783369]]) variable([5.49154938]) variable(0.07772544655685083)\n",
            "variable([[2.06607313]]) variable([5.49244159]) variable(0.07768569281099875)\n",
            "variable([[2.06433619]]) variable([5.49332183]) variable(0.07764699814538947)\n",
            "variable([[2.06262253]]) variable([5.49419026]) variable(0.07760933434504741)\n",
            "variable([[2.06093186]]) variable([5.49504705]) variable(0.077572673946673)\n",
            "variable([[2.05926386]]) variable([5.49589235]) variable(0.07753699021861672)\n",
            "variable([[2.05761823]]) variable([5.49672631]) variable(0.07750225714138739)\n",
            "variable([[2.05599467]]) variable([5.49754909]) variable(0.07746844938867965)\n",
            "variable([[2.05439288]]) variable([5.49836084]) variable(0.07743554230890665)\n",
            "variable([[2.05281257]]) variable([5.4991617]) variable(0.07740351190722487)\n",
            "variable([[2.05125345]]) variable([5.49995182]) variable(0.07737233482803779)\n",
            "variable([[2.04971524]]) variable([5.50073134]) variable(0.07734198833796596)\n",
            "variable([[2.04819766]]) variable([5.50150041]) variable(0.07731245030927009)\n",
            "variable([[2.04670043]]) variable([5.50225917]) variable(0.0772836992037163)\n",
            "variable([[2.04522328]]) variable([5.50300775]) variable(0.07725571405687154)\n",
            "variable([[2.04376594]]) variable([5.5037463]) variable(0.07722847446281625)\n",
            "variable([[2.04232815]]) variable([5.50447493]) variable(0.07720196055926543)\n",
            "variable([[2.04090963]]) variable([5.5051938]) variable(0.07717615301308561)\n",
            "variable([[2.03951014]]) variable([5.50590303]) variable(0.07715103300619762)\n",
            "variable([[2.03812941]]) variable([5.50660274]) variable(0.07712658222185513)\n",
            "variable([[2.0367672]]) variable([5.50729308]) variable(0.07710278283128849)\n",
            "variable([[2.03542326]]) variable([5.50797415]) variable(0.07707961748070473)\n",
            "variable([[2.03409734]]) variable([5.50864609]) variable(0.07705706927863344)\n",
            "variable([[2.0327892]]) variable([5.50930902]) variable(0.07703512178361023)\n",
            "variable([[2.03149861]]) variable([5.50996306]) variable(0.07701375899218812)\n",
            "variable([[2.03022532]]) variable([5.51060833]) variable(0.07699296532726814)\n",
            "variable([[2.02896911]]) variable([5.51124495]) variable(0.07697272562674114)\n",
            "variable([[2.02772974]]) variable([5.51187303]) variable(0.07695302513243202)\n",
            "variable([[2.026507]]) variable([5.51249268]) variable(0.07693384947933839)\n",
            "variable([[2.02530065]]) variable([5.51310403]) variable(0.07691518468515617)\n",
            "variable([[2.02411048]]) variable([5.51370717]) variable(0.0768970171400842)\n",
            "variable([[2.02293627]]) variable([5.51430223]) variable(0.07687933359690019)\n",
            "variable([[2.02177781]]) variable([5.51488931]) variable(0.07686212116130124)\n",
            "variable([[2.02063488]]) variable([5.51546852]) variable(0.07684536728250188)\n",
            "variable([[2.01950728]]) variable([5.51603996]) variable(0.0768290597440825)\n",
            "variable([[2.0183948]]) variable([5.51660373]) variable(0.07681318665508095)\n",
            "variable([[2.01729724]]) variable([5.51715995]) variable(0.07679773644132286)\n",
            "variable([[2.0162144]]) variable([5.5177087]) variable(0.07678269783698136)\n",
            "variable([[2.01514608]]) variable([5.5182501]) variable(0.07676805987636265)\n",
            "variable([[2.01409209]]) variable([5.51878424]) variable(0.07675381188591034)\n",
            "variable([[2.01305223]]) variable([5.51931121]) variable(0.07673994347642239)\n",
            "variable([[2.01202632]]) variable([5.51983112]) variable(0.0767264445354756)\n",
            "variable([[2.01101416]]) variable([5.52034405]) variable(0.07671330522005208)\n",
            "variable([[2.01001558]]) variable([5.52085011]) variable(0.07670051594936192)\n",
            "variable([[2.00903039]]) variable([5.52134937]) variable(0.0766880673978573)\n",
            "variable([[2.00805841]]) variable([5.52184195]) variable(0.0766759504884323)\n",
            "variable([[2.00709947]]) variable([5.52232792]) variable(0.07666415638580448)\n",
            "variable([[2.00615338]]) variable([5.52280737]) variable(0.07665267649007229)\n",
            "variable([[2.00521999]]) variable([5.52328039]) variable(0.07664150243044429)\n",
            "variable([[2.00429911]]) variable([5.52374707]) variable(0.07663062605913545)\n",
            "variable([[2.00339058]]) variable([5.52420749]) variable(0.07662003944542597)\n",
            "variable([[2.00249423]]) variable([5.52466173]) variable(0.07660973486987861)\n",
            "variable([[2.0016099]]) variable([5.52510989]) variable(0.07659970481870976)\n",
            "variable([[2.00073744]]) variable([5.52555203]) variable(0.07658994197831052)\n",
            "variable([[1.99987667]]) variable([5.52598824]) variable(0.07658043922991416)\n",
            "variable([[1.99902745]]) variable([5.52641861]) variable(0.07657118964440503)\n",
            "variable([[1.99818961]]) variable([5.5268432]) variable(0.07656218647726618)\n",
            "variable([[1.99736301]]) variable([5.5272621]) variable(0.07655342316366147)\n",
            "variable([[1.9965475]]) variable([5.52767538]) variable(0.07654489331364867)\n",
            "variable([[1.99574292]]) variable([5.52808312]) variable(0.07653659070752016)\n",
            "variable([[1.99494913]]) variable([5.52848539]) variable(0.07652850929126764)\n",
            "variable([[1.99416599]]) variable([5.52888227]) variable(0.07652064317216765)\n",
            "variable([[1.99339335]]) variable([5.52927382]) variable(0.07651298661448502)\n",
            "variable([[1.99263107]]) variable([5.52966013]) variable(0.07650553403529034)\n",
            "variable([[1.99187901]]) variable([5.53004125]) variable(0.0764982800003891)\n",
            "variable([[1.99113704]]) variable([5.53041726]) variable(0.07649121922035927)\n",
            "variable([[1.99040502]]) variable([5.53078823]) variable(0.07648434654669446)\n",
            "variable([[1.98968281]]) variable([5.53115423]) variable(0.07647765696804973)\n",
            "variable([[1.98897029]]) variable([5.53151531]) variable(0.07647114560658731)\n",
            "variable([[1.98826733]]) variable([5.53187156]) variable(0.07646480771442017)\n",
            "variable([[1.98757379]]) variable([5.53222302]) variable(0.07645863867014979)\n",
            "variable([[1.98688955]]) variable([5.53256978]) variable(0.07645263397549638)\n",
            "variable([[1.98621449]]) variable([5.53291188]) variable(0.07644678925201885)\n",
            "variable([[1.98554849]]) variable([5.5332494]) variable(0.07644110023792233)\n",
            "variable([[1.98489141]]) variable([5.53358239]) variable(0.07643556278495045)\n",
            "variable([[1.98424314]]) variable([5.53391091]) variable(0.07643017285536066)\n",
            "variable([[1.98360357]]) variable([5.53423503]) variable(0.07642492651897985)\n"
          ]
        }
      ]
    },
    {
      "cell_type": "markdown",
      "source": [
        "## 신경망"
      ],
      "metadata": {
        "id": "AiflvHVvGtV7"
      }
    },
    {
      "cell_type": "code",
      "source": [
        "# 선형 변환= 아핀 변환 = x와W사이의 행렬곱에 b더한 연산\n",
        "def linear_simple(x,W,b=None):\n",
        "  t=matmul(x,W)\n",
        "  if b is None:\n",
        "    return t\n",
        "  y= t+b\n",
        "  t.data=None # 중간 계산 결과 t필요없으니 버림\n",
        "  return y\n",
        "\n",
        "class Linear(Function):\n",
        "  def forward(self, x, W, b):\n",
        "    y = x.dot(W)\n",
        "    if b is not None:\n",
        "        y += b\n",
        "    return y\n",
        "\n",
        "  def backward(self, gy):\n",
        "    x, W, b = self.inputs\n",
        "    gb = None if b.data is None else sum_to(gy, b.shape)\n",
        "    # dim(self.grad)==dim(self.data)\n",
        "    gx = matmul(gy, W.T)\n",
        "    gW = matmul(x.T, gy)\n",
        "    return gx, gW, gb\n",
        "\n",
        "\n",
        "def linear(x, W, b=None):\n",
        "  return Linear()(x, W, b)"
      ],
      "metadata": {
        "id": "_d0fdenDybMm"
      },
      "execution_count": 110,
      "outputs": []
    },
    {
      "cell_type": "code",
      "source": [
        "# 비선형 데이터셋\n",
        "np.random.seed(0)\n",
        "x=np.random.rand(100,1)\n",
        "y=np.sin(2*np.pi*x)+np.random.rand(100,1)"
      ],
      "metadata": {
        "id": "APO4PVEjIi7E"
      },
      "execution_count": 72,
      "outputs": []
    },
    {
      "cell_type": "code",
      "source": [
        "#비선형 변환=활성화 함수\n",
        "\n",
        "# 메모리 효율 좋지 않은 버전\n",
        "def sigmoid_simple(x):\n",
        "  x=as_variable(x)\n",
        "  y=1/(1 + exp(-x))\n",
        "  return y\n",
        "\n",
        "class Sigmoid(Function):\n",
        "  def forward(self, x):\n",
        "    y = 1 / (1 + np.exp(-x))\n",
        "    y = np.tanh(x * 0.5) * 0.5 + 0.5  # Better implementation\n",
        "    return y\n",
        "\n",
        "  def backward(self, gy):\n",
        "    y = self.outputs[0]()\n",
        "    gx = gy * y * (1 - y)\n",
        "    return gx\n",
        "\n",
        "def sigmoid(x):\n",
        "    return Sigmoid()(x)\n"
      ],
      "metadata": {
        "id": "z3Xg9eLIKTeL"
      },
      "execution_count": 75,
      "outputs": []
    },
    {
      "cell_type": "markdown",
      "source": [
        "### 신경망 구현"
      ],
      "metadata": {
        "id": "DaTHs79fOPeW"
      }
    },
    {
      "cell_type": "code",
      "source": [
        "# 2층 신경망\n",
        "np.random.seed(0)\n",
        "x=np.random.rand(100,1)\n",
        "y=np.sin(2*np.pi*x)+np.random.rand(100,1)\n",
        "\n",
        "I, H, O=1,10,1\n",
        "W1=Variable(0.01*np.random.randn(I, H))\n",
        "b1=Variable(np.zeros(H))\n",
        "W2=Variable(0.01*np.random.randn(H, O))\n",
        "b2=Variable(np.zeros(O))\n",
        "\n",
        "def predict(x):\n",
        "  y=linear(x,W1,b1)\n",
        "  y=sigmoid(y)\n",
        "  y=linear(y,W2,b2)\n",
        "  return y\n",
        "\n",
        "lr=0.2\n",
        "iters=10000\n",
        "\n",
        "for i in range(iters):\n",
        "  y_pred=predict(x)\n",
        "  loss=mean_squared_error(y, y_pred)\n",
        "\n",
        "  W1.cleargrad()\n",
        "  b1.cleargrad()\n",
        "  b2.cleargrad()\n",
        "  W2.cleargrad()\n",
        "  loss.backward()\n",
        "\n",
        "  W1.data-=lr*W1.grad.data\n",
        "  W2.data-=lr*W2.grad.data\n",
        "  b1.data-=lr*b1.grad.data\n",
        "  b2.data-=lr*b2.grad.data\n",
        "  if i%1000==0:\n",
        "    print(loss)"
      ],
      "metadata": {
        "colab": {
          "base_uri": "https://localhost:8080/"
        },
        "id": "mLlAvyKfMUzi",
        "outputId": "bff2e3aa-b620-42a4-ec3e-22e8e9406016"
      },
      "execution_count": 77,
      "outputs": [
        {
          "output_type": "stream",
          "name": "stdout",
          "text": [
            "variable(0.8473695850105871)\n",
            "variable(0.2514286285183607)\n",
            "variable(0.24759485466749878)\n",
            "variable(0.23786120447054832)\n",
            "variable(0.21222231333102953)\n",
            "variable(0.16742181117834223)\n",
            "variable(0.0968193261999272)\n",
            "variable(0.07849528290602335)\n",
            "variable(0.07749729552991157)\n",
            "variable(0.07722132399559317)\n"
          ]
        }
      ]
    },
    {
      "cell_type": "markdown",
      "source": [
        "## 매개변수를 모아두는 계층"
      ],
      "metadata": {
        "id": "bKg_nVeWVBJF"
      }
    },
    {
      "cell_type": "code",
      "source": [
        "# 매개변수 기울기 재설정 시 단조로운 코드의 반복\n",
        "# 매개변수는 경사하강법을 통해 업데이트됨\n",
        "# Parameter 클래스 구축 Variable의 기능 필요->상속\n",
        "\n",
        "class Parameter(Variable):\n",
        "  pass\n",
        "\n",
        "x=Variable(np.array(1.0))\n",
        "p=Parameter(np.array(1.0))\n",
        "y=x*p\n",
        "\n",
        "print(isinstance(p, Parameter))\n",
        "print(isinstance(x, Parameter))\n",
        "print(isinstance(y, Parameter))\n",
        "print(y)"
      ],
      "metadata": {
        "colab": {
          "base_uri": "https://localhost:8080/"
        },
        "id": "11m6krpdOWjz",
        "outputId": "74ca5ac4-c33e-44af-f500-91bf6bc19ac1"
      },
      "execution_count": 79,
      "outputs": [
        {
          "output_type": "stream",
          "name": "stdout",
          "text": [
            "True\n",
            "False\n",
            "False\n",
            "variable(1.0)\n"
          ]
        }
      ]
    },
    {
      "cell_type": "code",
      "source": [
        "import weakref\n",
        "class Layer:\n",
        "  def __init__(self):\n",
        "    self._params=set() # layer 인스턴스에 속한 매개변수를 보관\n",
        "  def __setattr__(self, name, value): # 인스턴스 변수 설정시 호출되는 특수 메서드\n",
        "    if isinstance(value, Parameter):\n",
        "      self._params.add(name)\n",
        "    super().__setattr__(name,value)\n",
        "\n",
        "  def __call__(self, *inputs):\n",
        "    outputs=self.forward(*inputs)\n",
        "    if not isinstance(outputs, tuple):\n",
        "      outputs=(outputs,)\n",
        "    self.inputs=[weakref.ref(x) for x in inputs]\n",
        "    self.outputs=[weakref.ref(x) for x in outputs]\n",
        "    return outputs if len(outputs)>1 else outputs[0]\n",
        "\n",
        "  def forward(self, inputs):\n",
        "    raise NotImplementedError()\n",
        "\n",
        "  def params(self): # Layer인스턴스에 담겨있는 Parameter인스턴스들을 꺼내준다.\n",
        "    for name in self._params:\n",
        "      yield self.__dict__[name] #return과 비슷하게 값을 반환하지만, 함수를 종료하지 않고 실행 상태를 저장한 채 멈춥니다.다음번에 호출하면 멈췄던 지점부터 다시 실행\n",
        "  # param 메서드 호출 시마다 일시 정지됬던 처리가 재개됨.\n",
        "\n",
        "  def cleargrads(self): # 모든 매개변수 기울기를 재설정한다.\n",
        "    for param in self.params():\n",
        "      param.cleargrad()\n",
        "\n",
        "layer=Layer()\n",
        "layer.p1=Parameter(np.array(1))\n",
        "layer.p2=Parameter(np.array(2))\n",
        "layer.p3=Variable(np.array(3))\n",
        "layer.p4='test'\n",
        "\n",
        "print(layer._params)\n",
        "print('------------')\n",
        "\n",
        "for name in layer._params:\n",
        "  print(name, layer.__dict__[name]) # __dict__에는 모든 인스턴스 변수가 딕셔너리 타입으로 저장됨\n"
      ],
      "metadata": {
        "colab": {
          "base_uri": "https://localhost:8080/"
        },
        "id": "ukgI65UdWRbt",
        "outputId": "221e2b6e-800f-4d8e-84ff-6c668512f48d"
      },
      "execution_count": 95,
      "outputs": [
        {
          "output_type": "stream",
          "name": "stdout",
          "text": [
            "{'p2', 'p1'}\n",
            "------------\n",
            "p2 variable(2)\n",
            "p1 variable(1)\n"
          ]
        }
      ]
    },
    {
      "cell_type": "code",
      "source": [
        "# Linear class 구현\n",
        "# class Linear(Layer):\n",
        "#   def __init__(self, in_size, out_size, nobias=False, dtype=np.float32):\n",
        "#     super().__init__()\n",
        "\n",
        "#     I,O =in_size,out_size\n",
        "#     W_data=np.random.randn(I,O).astype(dtype) * np.sqrt(1/I)\n",
        "#     self.W=Parameter(W_data, name='W')\n",
        "#     if nobias:\n",
        "#       self.b=None\n",
        "#     else:\n",
        "#       self.b=Parameter(np.zeros(O, dtype=dtype),name='b')\n",
        "\n",
        "#   def forward(self, x):\n",
        "#     y=linear(x, self.W, self.b)\n",
        "#     return y\n",
        ""
      ],
      "metadata": {
        "id": "ZP5wd9vOY63T"
      },
      "execution_count": 102,
      "outputs": []
    },
    {
      "cell_type": "code",
      "source": [
        "# 가중치 W를 생성하는 시점을 늦추는 방식(초기화때가 아닌 forward때 생성)\n",
        "class LLinear(Layer):\n",
        "  def __init__(self, out_size, nobias=False, dtype=np.float32, in_size=None):\n",
        "    super().__init__()\n",
        "    self.in_size=in_size\n",
        "    self.out_size=out_size\n",
        "    self.dtype=dtype\n",
        "\n",
        "    self.W=Parameter(data=None, name='W')\n",
        "    if self.in_size is not None:\n",
        "      self._init_W()\n",
        "\n",
        "    if nobias:\n",
        "      self.b=None\n",
        "    else:\n",
        "      self.b=Parameter(np.zeros(out_size, dtype=dtype),name='b')\n",
        "\n",
        "  def _init_W(self):\n",
        "    I,O=self.in_size, self.out_size\n",
        "    W_data=np.random.randn(I,O).astype(self.dtype) * np.sqrt(1/I)\n",
        "    self.W.data=W_data\n",
        "\n",
        "  def forward(self, x):\n",
        "    if self.W.data is None:\n",
        "      self.in_size=x.shape[1]\n",
        "      self._init_W()\n",
        "\n",
        "    y=linear(x, self.W, self.b)\n",
        "    return y\n"
      ],
      "metadata": {
        "id": "V6ghnxZNhEI-"
      },
      "execution_count": 111,
      "outputs": []
    },
    {
      "cell_type": "code",
      "source": [
        "# Layer 이용한 신경망 구현\n",
        "np.random.seed(0)\n",
        "x=np.random.rand(100,1)\n",
        "y=np.sin(2*np.pi*x)+np.random.rand(100,1)\n",
        "\n",
        "l1=LLinear(10) # 출력 크기 지정함\n",
        "l2=LLinear(1)\n",
        "\n",
        "def predict(x):\n",
        "  y=l1(x)\n",
        "  y=sigmoid(y)\n",
        "  y=l2(y)\n",
        "  return y\n",
        "\n",
        "lr=0.2\n",
        "iters=10000\n",
        "\n",
        "for i in range(iters):\n",
        "  y_pred=predict(x)\n",
        "  loss=mean_squared_error(y,y_pred)\n",
        "\n",
        "  l1.cleargrads()\n",
        "  l2.cleargrads()\n",
        "  loss.backward()\n",
        "\n",
        "  for l in [l1,l2]:\n",
        "    for p in l.params():\n",
        "      p.data-=lr*p.grad.data\n",
        "\n",
        "  if i%1000==0:\n",
        "    print(loss)"
      ],
      "metadata": {
        "colab": {
          "base_uri": "https://localhost:8080/"
        },
        "id": "8uujaIt-pVeC",
        "outputId": "c1a56daa-faac-4012-c929-9ac5db121906"
      },
      "execution_count": 112,
      "outputs": [
        {
          "output_type": "stream",
          "name": "stdout",
          "text": [
            "variable(0.8165178492839196)\n",
            "variable(0.24990280802148895)\n",
            "variable(0.24609876581126014)\n",
            "variable(0.2372159081431807)\n",
            "variable(0.20793216413350174)\n",
            "variable(0.12311905720649353)\n",
            "variable(0.07888166506355147)\n",
            "variable(0.07655073683421637)\n",
            "variable(0.0763780308623822)\n",
            "variable(0.07618764131185572)\n"
          ]
        }
      ]
    },
    {
      "cell_type": "code",
      "source": [
        "# Linear class를 개별적으로 다루는 부분이 어색함"
      ],
      "metadata": {
        "id": "yhZH0BhjrRb8"
      },
      "execution_count": 94,
      "outputs": []
    },
    {
      "cell_type": "markdown",
      "source": [
        "## 계층을 모아두는 계층"
      ],
      "metadata": {
        "id": "-m6lRjnvut2X"
      }
    },
    {
      "cell_type": "code",
      "source": [],
      "metadata": {
        "id": "Yv7sdHYPuwZ1"
      },
      "execution_count": null,
      "outputs": []
    }
  ]
}