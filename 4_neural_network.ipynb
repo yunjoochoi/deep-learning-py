{
  "nbformat": 4,
  "nbformat_minor": 0,
  "metadata": {
    "colab": {
      "provenance": [],
      "authorship_tag": "ABX9TyOD6BVWU1Q1P5ACLdFf8IGc",
      "include_colab_link": true
    },
    "kernelspec": {
      "name": "python3",
      "display_name": "Python 3"
    },
    "language_info": {
      "name": "python"
    }
  },
  "cells": [
    {
      "cell_type": "markdown",
      "metadata": {
        "id": "view-in-github",
        "colab_type": "text"
      },
      "source": [
        "<a href=\"https://colab.research.google.com/github/yunjoochoi/deep-learning-py/blob/main/4_neural_network.ipynb\" target=\"_parent\"><img src=\"https://colab.research.google.com/assets/colab-badge.svg\" alt=\"Open In Colab\"/></a>"
      ]
    },
    {
      "cell_type": "code",
      "source": [
        "# dezero.core.py\n",
        "\n",
        "class Config: # 역전파 활성화 모드\n",
        "  enable_backprop=True\n",
        "  #  함수들\n",
        "import contextlib\n",
        "import numpy as np\n",
        "@contextlib.contextmanager\n",
        "def using_config(name, value):\n",
        "  old_value=getattr(Config, name)\n",
        "  setattr(Config, name, value)\n",
        "  try:\n",
        "    yield # 컨텍스트 블록 실행 (이 부분에서 실행 흐름이 사용자 코드로 넘어감)\n",
        "  finally:\n",
        "    setattr(Config, name, old_value)\n",
        "\n",
        "def no_grad():\n",
        "  return using_config('enable_backprop',False)\n",
        "\n",
        "def as_array(x):\n",
        "  if np.isscalar(x): #numpy.float64같은 스칼라타입인지 확인\n",
        "    return np.array(x)\n",
        "  return x\n",
        "\n",
        "def as_variable(obj): # np인스턴스와 함꼐 입력되도 오류없이 수행\n",
        "  if isinstance(obj, Variable):\n",
        "    return obj\n",
        "  return Variable(obj)\n",
        "\n",
        "import weakref\n",
        "\n",
        "class Variable:\n",
        "  __array_priority__=200\n",
        "  def __init__(self, data, name=None):\n",
        "    if data is not None:\n",
        "      if not isinstance(data, np.ndarray):\n",
        "        raise TypeError(\"{}은 지원 불가\".format(type(data)))\n",
        "    self.data=data\n",
        "    self.name=name # 많은 변수 처리 -> 이름 필요 -> 인스턴스 변수 추가\n",
        "    self.grad=None\n",
        "    self.creator=None\n",
        "    self.generation=0\n",
        "\n",
        "  def set_creator(self, func):\n",
        "    self.creator=func\n",
        "    self.generation=func.generation+1 # 부모 세대 함수보다 1만큼 큰 값 설정\n",
        "\n",
        "  def backward(self, retain_grad=False, create_graph=False): # retain_grad: 필요 없는 미분값 삭제 / 보통 말단 변수 미분값만이 필요\n",
        "    if self.grad is None:\n",
        "      self.grad=Variable(np.ones_like(self.data)) # 고차 미분 구현 위해 Variable class로 감쌈\n",
        "\n",
        "    funcs=[]\n",
        "    seen_set=set()\n",
        "    def add_func(f):\n",
        "      if f not in seen_set:\n",
        "        funcs.append(f)\n",
        "        seen_set.add(f)\n",
        "        funcs.sort(key=lambda x:x.generation)\n",
        "\n",
        "    add_func(self.creator)\n",
        "\n",
        "    while funcs:\n",
        "      f=funcs.pop()\n",
        "      gys=[output().grad for output in f.outputs] #약한 참조로 바꿨으므로 ()추가하여 수정\n",
        "\n",
        "      # 역전파를 단 한번만 수행하게 수정\n",
        "      with using_config('enable_backprop', create_graph): # 역전파 비활성 모드로 역전파 처리 생략 (계산그래프 생성/입력 변수 유지 등 생략)\n",
        "        gxs=f.backward(*gys) # 메인 역전파 (Var끼리의 연산으로 바꾸었기 때문에 f.backward내에서 순전파 실행됨. 이때 연결 생성되는데, creat_graph인수로 이를 막음. 고차 미분 시행시는 이 인수를True로 둔다)\n",
        "        # gx*x1 등 불필요한 고차 미분시의 연결을 사전에 차단하는 방식.\n",
        "        if not isinstance(gxs, tuple):\n",
        "         gxs=(gxs,)\n",
        "        for x, gx in zip(f.inputs, gxs):\n",
        "          if x.grad is None:\n",
        "            x.grad=gx\n",
        "          else:\n",
        "            x.grad = x.grad + gx\n",
        "          if x.creator is not None:\n",
        "            add_func(x.creator)\n",
        "\n",
        "      if not retain_grad: # 말단 변수 아닐시 미분값 삭제\n",
        "        for y in f.outputs:\n",
        "          y().grad=None\n",
        "\n",
        "  #Variable 클래스에 추가\n",
        "  def reshape(self, *shape):\n",
        "    if len(shape)==1 and isinstance(shape[0], (tuple, list)):\n",
        "      shape=shape[0]\n",
        "    return reshape(self, shape)\n",
        "\n",
        "  def transpose(self, *axes):\n",
        "    if len(axes) == 0:\n",
        "      axes = None\n",
        "    elif len(axes) == 1:\n",
        "      if isinstance(axes[0], (tuple, list)) or axes[0] is None:\n",
        "        axes = axes[0]\n",
        "    return transpose(self, axes)\n",
        "\n",
        "  def sum(self,axis=None,keepdims=False):\n",
        "    return sum(self, axis, keepdims)\n",
        "\n",
        "  def cleargrad(self):\n",
        "    self.grad=None\n",
        "\n",
        "  # 목표: Variable을 ndarray처럼 보이게 만드는 것\n",
        "  @property # transpose 함수 추가\n",
        "  def T(self): # 인스턴스 변수\n",
        "    return transpose(self)\n",
        "\n",
        "  @property # 인스턴스 변수처럼 사용할수 있게 함 x.shape() -> x.shape\n",
        "  def shape(self):\n",
        "    return self.data.shape\n",
        "\n",
        "  @property\n",
        "  def ndim(self):\n",
        "    return self.data.ndim\n",
        "\n",
        "  @property\n",
        "  def size(self):\n",
        "    return self.data.size\n",
        "\n",
        "  @property\n",
        "  def dtype(self):\n",
        "    return self.data.dtype\n",
        "\n",
        "  def __len__(self): # 특수 메서드\n",
        "    return len(self.data)\n",
        "\n",
        "  def __repr__(self): # print함수 출력값 수정하려면  __repr__재정의\n",
        "    if self.data is None:\n",
        "      return 'variable(None)'\n",
        "    p=str(self.data).replace('\\n','\\n'+''*9)\n",
        "    return 'variable('+p+')'\n",
        "\n",
        "  # # 함수식 거추장-> 연산자 오버로드\n",
        "  # def __mul__(self, other): #self=a전달, other=b전달\n",
        "  #   return mul(self, other)\n",
        "\n",
        "class Function:\n",
        "  def __call__(self, *inputs):\n",
        "    inputs=[as_variable(x) for x in inputs]\n",
        "    xs=[x.data for x in inputs]\n",
        "    ys=self.forward(*xs)\n",
        "    if not isinstance(ys, tuple):\n",
        "      ys=(ys,)\n",
        "    outputs=[Variable(as_array(y)) for y in ys]\n",
        "\n",
        "    if Config.enable_backprop: # 역전파 모드에서만 연결 연산 수행\n",
        "      # 입력 변수 세대중에 가장 큰 세대 값으로 함수의 세대 설정\n",
        "      self.generation=max([x.generation for x in inputs])\n",
        "      for output in outputs:\n",
        "        output.set_creator(self)\n",
        "      self.inputs=inputs\n",
        "      self.outputs=[weakref.ref(output) for output in outputs] # 약한 참조로 수정\n",
        "\n",
        "    return outputs if len(outputs)>1 else outputs[0]\n",
        "\n",
        "  def forward(self, xs):\n",
        "    raise NotImplementedError()\n",
        "\n",
        "  def backward(self, gys):\n",
        "    raise NotImplementedError()\n",
        "\n",
        "class Square(Function):\n",
        "  def forward(self, x):\n",
        "    y=x**2\n",
        "    return y\n",
        "  def backward(self, gy):\n",
        "    x=self.inputs[0].data\n",
        "    gx=2*x*gy\n",
        "    return gx\n",
        "\n",
        "class Add(Function):\n",
        "  def forward(self, x0,x1):\n",
        "    self.x0_shape, self.x1_shape=x0.shape, x1.shape\n",
        "    y=x0+x1 # 브로드캐스트 저절로 일어나는 부분(np 라서)\n",
        "    return y\n",
        "\n",
        "  def backward(self, gy):\n",
        "    gx0, gx1= gy,gy\n",
        "    if self.x0_shape!=self.x1_shape:\n",
        "      gx0=sum_to(gx0, self.x0_shape)\n",
        "      gx1=sum_to(gx1, self.x1_shape)\n",
        "    return gx0,gx1 #상류에서 흘러오는 미분값을 그대로 흘려보내는 것이 덧셈의 역전파(미분시, gy*1이라서)\n",
        "\n",
        "def square(x):\n",
        "  return Square()(x)\n",
        "def add(x0,x1):\n",
        "  x1=as_array(x1) #x1가 float등일 경우 ndarray인스턴스로 변환\n",
        "  return Add()(x0,x1)\n",
        "\n",
        "class Mul(Function):\n",
        "  def forward(self, x0, x1):\n",
        "    y=x0*x1\n",
        "    return y\n",
        "\n",
        "  def backward(self, gy):\n",
        "    x0, x1=self.inputs[0], self.inputs[1] # x0, x1은 Variable class (gy 도)\n",
        "    return gy*x1, gy*x0 # Variable class의 *연산자는 이미 오버로드 되어있어 순전파 호출\n",
        "\n",
        "def mul(x0,x1):\n",
        "  x1=as_array(x1) #x1가 float등일 경우 ndarray인스턴스로 변환\n",
        "  return Mul()(x0,x1)\n",
        "\n",
        "\n",
        "\n",
        "class Neg(Function):\n",
        "  def forward(self,x):\n",
        "    return -x\n",
        "  def backward(self, gy):\n",
        "    return -gy\n",
        "def neg(x):\n",
        "  return Neg()(x)\n",
        "\n",
        "class Sub(Function):\n",
        "  def forward(self, x0,x1):\n",
        "    return x0-x1\n",
        "  def backward(self, gy):\n",
        "    return gy,-gy\n",
        "\n",
        "def sub(x0,x1):\n",
        "  x1=as_array(x1)\n",
        "  return Sub()(x0,x1)\n",
        "\n",
        "def rsub(x0,x1):\n",
        "  x1=as_array(x1)\n",
        "  return Sub()(x1,x0)\n",
        "\n",
        "class Div(Function):\n",
        "  def forward(self, x0,x1):\n",
        "    y=x0/x1\n",
        "    return y\n",
        "  def backward(self, gy):\n",
        "    x0,x1=self.inputs[0], self.inputs[1]\n",
        "    return gy*(1/x1), gy*(-x0/x1**2)\n",
        "\n",
        "def div(x0,x1):\n",
        "  x1=as_array(x1)\n",
        "  return Div()(x0,x1)\n",
        "\n",
        "def rdiv(x0,x1):\n",
        "  x1=as_array(x1)\n",
        "  return Div()(x1,x0)\n",
        "\n",
        "class Pow(Function):\n",
        "  def __init__(self, c):\n",
        "    self.c=c\n",
        "  def forward(self, x):\n",
        "    y=x**self.c\n",
        "    return y\n",
        "  def backward(self, gy):\n",
        "    x=self.inputs[0]\n",
        "    return gy*(self.c*x**(self.c-1))\n",
        "\n",
        "def pow(x,c):\n",
        "  x=as_array(x)\n",
        "  return Pow(c)(x)\n",
        "\n",
        "def setup_variable():\n",
        "  Variable.__add__=add\n",
        "  Variable.__radd__=add\n",
        "  Variable.__mul__=mul\n",
        "  Variable.__rmul__=mul\n",
        "  Variable.__rsub__=rsub\n",
        "  Variable.__sub__=sub\n",
        "  Variable.__neg__=neg\n",
        "  Variable.__truediv__=div\n",
        "  Variable.__rtruediv__=rdiv\n",
        "  Variable.__pow__=pow\n",
        "\n",
        "setup_variable()\n",
        "\n",
        "# dezero/functions.py\n",
        "\n",
        "# Sin함수 구현\n",
        "class Sin(Function):\n",
        "  def forward(self,x):\n",
        "    y=np.sin(x)\n",
        "    return y\n",
        "  def backward(self, gy):\n",
        "    x,=self.inputs # self.inputs[0] 대신 간단하게 사용\n",
        "    gx=cos(x)*gy  # dezero의 cos\n",
        "    return gx\n",
        "def sin(x):\n",
        "  return Sin()(x)\n",
        "\n",
        "# Cos함수 구현\n",
        "class Cos(Function):\n",
        "  def forward(self, x):\n",
        "    return np.cos(x)\n",
        "  def backward(self, gy):\n",
        "    x,=self.inputs\n",
        "    return gy*-sin(x)\n",
        "def cos(x):\n",
        "  return Cos()(x)\n",
        "\n",
        "# tanh 함수 구현\n",
        "class Tanh(Function):\n",
        "  def forward(self,x):\n",
        "    y=np.tanh(x)\n",
        "    return y\n",
        "  def backward(self, gy):\n",
        "    y=self.outputs[0]()\n",
        "    return gy*(1-y**2)\n",
        "def tanh(x):\n",
        "  return Tanh()(x)\n",
        "\n",
        "class Exp(Function):\n",
        "  def forward(self, x):\n",
        "    return np.exp(x)\n",
        "  def backward(self, gy):\n",
        "    x,=self.inputs\n",
        "    return np.exp(x)*gy\n",
        "def exp(x):\n",
        "  return Exp()(x)\n",
        "\n",
        "class Log(Function):\n",
        "    def forward(self, x):\n",
        "        y = np.log(x)\n",
        "        return y\n",
        "\n",
        "    def backward(self, gy):\n",
        "        x, = self.inputs\n",
        "        gx = gy / x\n",
        "        return gx\n",
        "\n",
        "\n",
        "def log(x):\n",
        "    return Log()(x)"
      ],
      "metadata": {
        "id": "td_Aq8r2QxM8"
      },
      "execution_count": 68,
      "outputs": []
    },
    {
      "cell_type": "code",
      "execution_count": 3,
      "metadata": {
        "colab": {
          "base_uri": "https://localhost:8080/"
        },
        "id": "hw43b2Z_QP16",
        "outputId": "d153e9b3-02fc-4712-e26c-34aa472a5d38"
      },
      "outputs": [
        {
          "output_type": "stream",
          "name": "stdout",
          "text": [
            "variable([[11 22 33]\n",
            " [44 55 66]])\n"
          ]
        }
      ],
      "source": [
        "# 현재까지는 변수로 주로 스칼라만을 취급해왔지만, 머신러닝에서는 텐서(다차원 배열)을 사용\n",
        "x=Variable(np.array([[1,2,3],[4,5,6]]))\n",
        "c=Variable(np.array([[10,20,30],[40,50,60]]))\n",
        "y= x + c\n",
        "print(y)"
      ]
    },
    {
      "cell_type": "code",
      "source": [
        "# x,c의 형상이 같아야 하지만 넘파이는 브로드캐스트 기능 지원\n",
        "# 마지막 출력이 스칼라인 계산 그래프에 대한 역전파\n",
        "# 기울기 형상과 데이터(순전파) 형상은 일치한다\n",
        "# 이전까지 구현했던 스칼라별 연산 수행하는 함수에 텐서 입력해도 역전파 성립"
      ],
      "metadata": {
        "id": "Ti5798SNRwGe"
      },
      "execution_count": 1,
      "outputs": []
    },
    {
      "cell_type": "code",
      "source": [
        "x=np.array([[1,2,3],[4,5,6]])\n",
        "y=np.reshape(x,(6,)) # 넘파이의 형상 변환 함수\n",
        "print(y)"
      ],
      "metadata": {
        "colab": {
          "base_uri": "https://localhost:8080/"
        },
        "id": "qak50g1rAuH2",
        "outputId": "1f4e439f-364a-4820-ef82-f90374950c3f"
      },
      "execution_count": 3,
      "outputs": [
        {
          "output_type": "stream",
          "name": "stdout",
          "text": [
            "[1 2 3 4 5 6]\n"
          ]
        }
      ]
    },
    {
      "cell_type": "markdown",
      "source": [
        "### reshape 구현"
      ],
      "metadata": {
        "id": "u-jknCe6JeKt"
      }
    },
    {
      "cell_type": "code",
      "source": [
        "# 텐서 reshape함수는 아무 연산 수행X, 대신 모양만 바꾼다\n",
        "class Reshape(Function):\n",
        "  def __init__(self, shape):\n",
        "    self.shape=shape\n",
        "\n",
        "  def forward(self, x):\n",
        "    self.x_shape=x.shape\n",
        "    y=x.reshape(self.shape)\n",
        "    return y\n",
        "\n",
        "  def backward(self, gy):\n",
        "    return reshape(gy, self.x_shape) # gy는 Variable인스턴스므로 dezero의 리셰입 써야함\n",
        "\n",
        "def reshape(x, shape):\n",
        "  if x.shape==shape:\n",
        "    return as_variable(x)\n",
        "  return Reshape(shape)(x)\n"
      ],
      "metadata": {
        "id": "gn1O8oxPA6vU"
      },
      "execution_count": 2,
      "outputs": []
    },
    {
      "cell_type": "code",
      "source": [
        "x=Variable(np.array([[1,2,3],[4,5,6]]))\n",
        "y=reshape(x, (6,))\n",
        "y.backward(retain_grad=True) #y.grad = #variable([[1 1 1 1 1 1 ])\n",
        "print(x.grad) #variable([[1 1 1] [1 1 1]])"
      ],
      "metadata": {
        "colab": {
          "base_uri": "https://localhost:8080/"
        },
        "id": "sS5L0jS2FUWu",
        "outputId": "f9c0ac51-836c-4572-b3f9-dd3f9b8cb48d"
      },
      "execution_count": 14,
      "outputs": [
        {
          "output_type": "stream",
          "name": "stdout",
          "text": [
            "variable([[1 1 1]\n",
            " [1 1 1]])\n"
          ]
        }
      ]
    },
    {
      "cell_type": "code",
      "source": [
        "x=np.random.rand(1,2,3)\n",
        "print(x)\n",
        "y=x.reshape((2,3))\n",
        "print(y)\n",
        "y=x.reshape([2,3])\n",
        "print(y)\n",
        "y=x.reshape(2,3)\n",
        "print(y)\n",
        "# 모두 같은 동작, 이를 디제로로 구현"
      ],
      "metadata": {
        "colab": {
          "base_uri": "https://localhost:8080/"
        },
        "id": "5vyQDdk4GQv5",
        "outputId": "157b300f-e49b-40c1-e73a-c67e2c95c738"
      },
      "execution_count": 15,
      "outputs": [
        {
          "output_type": "stream",
          "name": "stdout",
          "text": [
            "[[[0.72817274 0.72569157 0.16327641]\n",
            "  [0.29343906 0.21681039 0.90523927]]]\n",
            "[[0.72817274 0.72569157 0.16327641]\n",
            " [0.29343906 0.21681039 0.90523927]]\n",
            "[[0.72817274 0.72569157 0.16327641]\n",
            " [0.29343906 0.21681039 0.90523927]]\n",
            "[[0.72817274 0.72569157 0.16327641]\n",
            " [0.29343906 0.21681039 0.90523927]]\n"
          ]
        }
      ]
    },
    {
      "cell_type": "code",
      "source": [
        "x=Variable(np.random.randn(1,2,3))\n",
        "y=x.reshape((2,3))\n",
        "y=x.reshape(2,3)\n",
        "# 이제 인스턴스의 메서드 형태로도 호출 가능"
      ],
      "metadata": {
        "id": "MWY4GOQHG9O8"
      },
      "execution_count": 17,
      "outputs": []
    },
    {
      "cell_type": "markdown",
      "source": [
        "### 행렬 전치"
      ],
      "metadata": {
        "id": "1TOPPDFXJW05"
      }
    },
    {
      "cell_type": "code",
      "source": [
        "x=np.array([[1,2,3],[4,5,6]])\n",
        "y=np.transpose(x)\n",
        "print(y)"
      ],
      "metadata": {
        "colab": {
          "base_uri": "https://localhost:8080/"
        },
        "id": "rDWYd8GZJOqM",
        "outputId": "ee1a4fc2-f7e9-4fe3-eada-6e86e986ba0c"
      },
      "execution_count": 18,
      "outputs": [
        {
          "output_type": "stream",
          "name": "stdout",
          "text": [
            "[[1 4]\n",
            " [2 5]\n",
            " [3 6]]\n"
          ]
        }
      ]
    },
    {
      "cell_type": "code",
      "source": [
        "class Transpose(Function):\n",
        "  def forward(self, x):\n",
        "    y=np.transpose(x)\n",
        "    return y\n",
        "\n",
        "  def backward(self,gy):\n",
        "    gx=transpose(gy)\n",
        "    return gx\n",
        "\n",
        "def transpose(x):\n",
        "  return Transpose()(x)\n",
        "\n",
        "x=np.random.rand(1,2,3,4)\n",
        "x.transpose(1,0,3,2)"
      ],
      "metadata": {
        "colab": {
          "base_uri": "https://localhost:8080/"
        },
        "id": "4o-OmaSlJsGx",
        "outputId": "0cc1e4c5-7154-4960-841c-d6226454464f"
      },
      "execution_count": 3,
      "outputs": [
        {
          "output_type": "execute_result",
          "data": {
            "text/plain": [
              "array([[[[0.04895684, 0.70269011, 0.38728137],\n",
              "         [0.06329041, 0.97378214, 0.38068708],\n",
              "         [0.35293234, 0.0122383 , 0.57195398],\n",
              "         [0.56833405, 0.39157477, 0.46627726]]],\n",
              "\n",
              "\n",
              "       [[[0.77854251, 0.9398377 , 0.42898389],\n",
              "         [0.83651826, 0.1071817 , 0.13088181],\n",
              "         [0.68732216, 0.67789528, 0.16027054],\n",
              "         [0.66097774, 0.59949219, 0.75781236]]]])"
            ]
          },
          "metadata": {},
          "execution_count": 3
        }
      ]
    },
    {
      "cell_type": "markdown",
      "source": [
        "### 브로드캐스트 함수"
      ],
      "metadata": {
        "id": "FIRwlDBzaj_2"
      }
    },
    {
      "cell_type": "code",
      "source": [
        "# utils에서 가져옴\n",
        "def utils_sum_to(x, shape):\n",
        "    \"\"\"Sum elements along axes to output an array of a given shape.\n",
        "\n",
        "    Args:\n",
        "        x (ndarray): Input array.\n",
        "        shape:\n",
        "\n",
        "    Returns:\n",
        "        ndarray: Output array of the shape.\n",
        "    \"\"\"\n",
        "    ndim = len(shape)\n",
        "    lead = x.ndim - ndim\n",
        "    lead_axis = tuple(range(lead))\n",
        "\n",
        "    axis = tuple([i + lead for i, sx in enumerate(shape) if sx == 1])\n",
        "    y = x.sum(lead_axis + axis, keepdims=True)\n",
        "    if lead > 0:\n",
        "        y = y.squeeze(lead_axis)\n",
        "    return y\n",
        "\n",
        "\n",
        "def reshape_sum_backward(gy, x_shape, axis, keepdims):\n",
        "    \"\"\"Reshape gradient appropriately for dezero.functions.sum's backward.\n",
        "\n",
        "    Args:\n",
        "        gy (dezero.Variable): Gradient variable from the output by backprop.\n",
        "        x_shape (tuple): Shape used at sum function's forward.\n",
        "        axis (None or int or tuple of ints): Axis used at sum function's\n",
        "            forward.\n",
        "        keepdims (bool): Keepdims used at sum function's forward.\n",
        "\n",
        "    Returns:\n",
        "        dezero.Variable: Gradient variable which is reshaped appropriately\n",
        "    \"\"\"\n",
        "    ndim = len(x_shape)\n",
        "    tupled_axis = axis\n",
        "    if axis is None:\n",
        "        tupled_axis = None\n",
        "    elif not isinstance(axis, tuple):\n",
        "        tupled_axis = (axis,)\n",
        "\n",
        "    if not (ndim == 0 or tupled_axis is None or keepdims):\n",
        "        actual_axis = [a if a >= 0 else a + ndim for a in tupled_axis]\n",
        "        shape = list(gy.shape)\n",
        "        for a in sorted(actual_axis):\n",
        "            shape.insert(a, 1)\n",
        "    else:\n",
        "        shape = gy.shape\n",
        "\n",
        "    gy = gy.reshape(shape)  # reshape\n",
        "    return gy\n"
      ],
      "metadata": {
        "id": "Y8RKx4O7f6ZM"
      },
      "execution_count": 4,
      "outputs": []
    },
    {
      "cell_type": "code",
      "source": [
        "x=np.array([1,2,3])\n",
        "y=np.broadcast_to(x,(2,3))\n",
        "print(y)"
      ],
      "metadata": {
        "colab": {
          "base_uri": "https://localhost:8080/"
        },
        "id": "G9Gisw0DamQe",
        "outputId": "8a61ed9e-2a49-4899-edbd-dda1668ffc4a"
      },
      "execution_count": 34,
      "outputs": [
        {
          "output_type": "stream",
          "name": "stdout",
          "text": [
            "[[1 2 3]\n",
            " [1 2 3]]\n"
          ]
        }
      ]
    },
    {
      "cell_type": "code",
      "source": [
        "x=np.array([[1,2,3],[4,5,6]])\n",
        "y=sum_to(x,(1,3))\n",
        "print(y)\n",
        "\n",
        "y=sum_to(x,(2,1))\n",
        "print(y)"
      ],
      "metadata": {
        "colab": {
          "base_uri": "https://localhost:8080/"
        },
        "id": "AHqFRhJ4amMs",
        "outputId": "26eb974e-0f5e-43ef-c66b-1ef506c0d27d"
      },
      "execution_count": 6,
      "outputs": [
        {
          "output_type": "stream",
          "name": "stdout",
          "text": [
            "variable([[5 7 9]])\n",
            "variable([[ 6]\n",
            " [15]])\n"
          ]
        }
      ]
    },
    {
      "cell_type": "code",
      "source": [
        "class BroadcastTo(Function):\n",
        "  def __init__(self, shape):\n",
        "    self.shape=shape\n",
        "  def forward(self, x):\n",
        "    self.x_shape=x.shape\n",
        "    return np.broadcast_to(x, self.shape)\n",
        "  def backward(self, gy):\n",
        "    gx=sum_to(gy, self.x_shape)\n",
        "    return gx\n",
        "\n",
        "def broadcast_to(x, shape):\n",
        "  if x.shape==shape:\n",
        "    return as_variable(x)\n",
        "  return BroadcastTo(shape)(x)\n",
        "\n",
        "class SumTo(Function):\n",
        "  def __init__(self, shape):\n",
        "    self.shape=shape\n",
        "  def forward(self, x):\n",
        "    self.x_shape=x.shape\n",
        "    y=utils_sum_to(x, self.shape)\n",
        "    return y\n",
        "  def backward(self, gy):\n",
        "    gx=broadcast_to(gy, self.x_shape)\n",
        "    return gx\n",
        "def sum_to(x,shape):\n",
        "  if x.shape==shape:\n",
        "    return as_variable(x)\n",
        "  return SumTo(shape)(x)"
      ],
      "metadata": {
        "id": "zTdWlJEggfC9"
      },
      "execution_count": 5,
      "outputs": []
    },
    {
      "cell_type": "code",
      "source": [
        "x0=Variable(np.array([1,2,3])) # 벡터 내에서의 덧셈연산 역전파는 가능하지만, Var끼리 덧셈시 브로드캐스트되는 경우는?\n",
        "x1=Variable(np.array([10]))\n",
        "y=x0+x1\n",
        "print(y)\n",
        "y.backward()\n",
        "print(x0.grad, x1.grad) # x1.grad가 제대로 출력되지 않음\n",
        "# Add class수정 필요"
      ],
      "metadata": {
        "colab": {
          "base_uri": "https://localhost:8080/"
        },
        "id": "JFy8DTcMge6c",
        "outputId": "b45d7847-1956-4cee-8e44-dfc9cc0e745f"
      },
      "execution_count": 46,
      "outputs": [
        {
          "output_type": "stream",
          "name": "stdout",
          "text": [
            "variable([11 12 13])\n",
            "variable([1 1 1]) variable([1 1 1])\n"
          ]
        }
      ]
    },
    {
      "cell_type": "code",
      "source": [
        "# 수정 후\n",
        "x0=Variable(np.array([1,2,3]))\n",
        "x1=Variable(np.array([10]))\n",
        "y=x0+x1\n",
        "print(y)\n",
        "y.backward()\n",
        "print(x0.grad, x1.grad)"
      ],
      "metadata": {
        "colab": {
          "base_uri": "https://localhost:8080/"
        },
        "id": "2OfNW2_EmS_s",
        "outputId": "38970473-4039-499d-df8b-7372ee5eecd2"
      },
      "execution_count": 50,
      "outputs": [
        {
          "output_type": "stream",
          "name": "stdout",
          "text": [
            "variable([11 12 13])\n",
            "variable([1 1 1]) variable([3])\n"
          ]
        }
      ]
    },
    {
      "cell_type": "markdown",
      "source": [
        "### 합계 함수"
      ],
      "metadata": {
        "id": "iPYxlMVAQMI_"
      }
    },
    {
      "cell_type": "code",
      "source": [
        "class Sum(Function):\n",
        "  def __init__(self, axis,keepdims):\n",
        "    self.axis=axis\n",
        "    self.keepdims=keepdims\n",
        "\n",
        "  def forward(self, x):\n",
        "    self.x_shape=x.shape\n",
        "    y=x.sum(axis=self.axis, keepdims=self.keepdims)\n",
        "    return y\n",
        "\n",
        "  def backward(self,gy):\n",
        "    gy=reshape_sum_backward(gy, self.x_shape, self.axis, self.keepdims) #넘파이문제로, 신경쓸필요없음\n",
        "    gx=broadcast_to(gy, self.x_shape)\n",
        "    return gx\n",
        "def sum(x,axis=None,keepdims=False):\n",
        "  return Sum(axis,keepdims)(x)\n",
        "\n",
        "x=Variable(np.array([[1,2,3],[4,5,6]]))\n",
        "y=sum(x, axis=0)\n",
        "y.backward()\n",
        "print(y)\n",
        "print(x.grad)"
      ],
      "metadata": {
        "colab": {
          "base_uri": "https://localhost:8080/"
        },
        "id": "5CRPWRbLM4RQ",
        "outputId": "ad80831b-969c-4e42-bfcb-e09ccd5aa025"
      },
      "execution_count": 7,
      "outputs": [
        {
          "output_type": "stream",
          "name": "stdout",
          "text": [
            "variable([5 7 9])\n",
            "variable([[1 1 1]\n",
            " [1 1 1]])\n"
          ]
        }
      ]
    },
    {
      "cell_type": "markdown",
      "source": [
        "### 행렬의 곱"
      ],
      "metadata": {
        "id": "c40XnurUokVl"
      }
    },
    {
      "cell_type": "code",
      "source": [
        "# 행렬의 곱과 행렬의 내적 - 넘파이\n",
        "# 모두 1차원 배열이면 내적 계산\n",
        "a=np.array([1,2,3])\n",
        "b=np.array([4,5,6])\n",
        "c=np.dot(a,b)\n",
        "print(c)\n",
        "\n",
        "# 2차원 배열 이상이면 행렬곱 계산\n",
        "a=np.array([[1,2],[3,4]])\n",
        "b=np.array([[5,6],[7,8]])\n",
        "c=np.dot(a,b)\n",
        "print(c)"
      ],
      "metadata": {
        "colab": {
          "base_uri": "https://localhost:8080/"
        },
        "id": "iIeFDafQOMcd",
        "outputId": "7559a699-4fdb-429e-aa51-3d36d54dfe13"
      },
      "execution_count": 8,
      "outputs": [
        {
          "output_type": "stream",
          "name": "stdout",
          "text": [
            "32\n",
            "[[19 22]\n",
            " [43 50]]\n"
          ]
        }
      ]
    },
    {
      "cell_type": "code",
      "source": [
        "class MatMul(Function):\n",
        "  def forward(self, x,W):\n",
        "    y=x.dot(W)\n",
        "    return y\n",
        "  def backward(self, gy):\n",
        "    x, W=self.inputs #Var형태로 받아야 밑에서 연산연결 생김\n",
        "    gx=matmul(gy, W.T)\n",
        "    gW=matmul(x.T, gy)\n",
        "    return gx,gW\n",
        "\n",
        "def matmul(x,W):\n",
        "  return MatMul()(x,W)"
      ],
      "metadata": {
        "id": "tQsGki5mUoRf"
      },
      "execution_count": 9,
      "outputs": []
    },
    {
      "cell_type": "code",
      "source": [
        "x=Variable(np.random.randn(2,3))\n",
        "W=Variable(np.random.randn(3,4))\n",
        "y=matmul(x,W)\n",
        "y.backward()\n",
        "\n",
        "print(x.grad.shape) # = x.shape\n",
        "print(W.grad.shape) # = W.shape"
      ],
      "metadata": {
        "colab": {
          "base_uri": "https://localhost:8080/"
        },
        "id": "B7Zdxx-Htcs9",
        "outputId": "02d64ccc-43b2-46ec-eeba-19b444c1578b"
      },
      "execution_count": 65,
      "outputs": [
        {
          "output_type": "stream",
          "name": "stdout",
          "text": [
            "(2, 3)\n",
            "(3, 4)\n"
          ]
        }
      ]
    },
    {
      "cell_type": "markdown",
      "source": [
        "## 선형 회귀"
      ],
      "metadata": {
        "id": "d-ZQsXAMuP-Y"
      }
    },
    {
      "cell_type": "code",
      "source": [
        "# 토이 데이터셋\n",
        "np.random.seed(0)\n",
        "x=np.random.rand(100,1) # 0과 1 사이의 난수\n",
        "y=5+2*x+np.random.rand(100,1) # 맨 마지막 항은 노이즈\n",
        "\n",
        "W=Variable(np.zeros((1,1))) # x와 행렬곱하게 차원 맞춤\n",
        "b=Variable(np.zeros(1))\n",
        "\n",
        "def predict(x):\n",
        "  y=matmul(x,W)+b\n",
        "  return y"
      ],
      "metadata": {
        "id": "aPLUjUSEuxaK"
      },
      "execution_count": 12,
      "outputs": []
    },
    {
      "cell_type": "code",
      "source": [
        "class MeanSquaredError(Function): #sample_mean_squared_error보다 불필요한 변수연결 없애서 효율 증가\n",
        "  def forward(self, x0,x1):\n",
        "    diff=x0-x1 # Function 상속받아서 이제 넘파이임\n",
        "    y=(diff**2).sum()/len(diff)\n",
        "    return y\n",
        "  def backward(self, gy):\n",
        "    x0,x1=self.inputs\n",
        "    diff=x0-x1\n",
        "    gx0=gy*diff*(2./len(diff))\n",
        "    gx1=-gx0\n",
        "    return gx0, gx1\n",
        "def mean_squared_error(x0,x1):\n",
        "  return MeanSquaredError()(x0,x1)"
      ],
      "metadata": {
        "id": "HmE5RY2wEaLP"
      },
      "execution_count": 13,
      "outputs": []
    },
    {
      "cell_type": "code",
      "source": [
        "def sample_mean_squared_error(x0, x1):\n",
        "  diff=x1-x0\n",
        "  return sum(diff**2/len(diff))\n",
        "\n",
        "lr=0.1\n",
        "iters=100\n",
        "\n",
        "for i in range(iters):\n",
        "  y_pred=predict(x)\n",
        "\n",
        "  loss=mean_squared_error(y, y_pred)\n",
        "\n",
        "  W.cleargrad()\n",
        "  b.cleargrad()\n",
        "  loss.backward()\n",
        "\n",
        "  W.data-=lr*W.grad.data\n",
        "  b.data-=lr*b.grad.data\n",
        "  print(W,b,loss)"
      ],
      "metadata": {
        "colab": {
          "base_uri": "https://localhost:8080/"
        },
        "id": "m9TqeKt4wRzr",
        "outputId": "cd3e82b6-2c14-47af-b153-5d5c1ffe64d5"
      },
      "execution_count": 14,
      "outputs": [
        {
          "output_type": "stream",
          "name": "stdout",
          "text": [
            "variable([[0.64433458]]) variable([1.29473389]) variable(42.296340129442335)\n",
            "variable([[1.12672345]]) variable([2.26959351]) variable(23.97380754378544)\n",
            "variable([[1.48734571]]) variable([3.00386712]) variable(13.609686745040522)\n",
            "variable([[1.75641886]]) variable([3.557186]) variable(7.747049961219976)\n",
            "variable([[1.95666851]]) variable([3.97439789]) variable(4.43057410592155)\n",
            "variable([[2.10518573]]) variable([4.28923203]) variable(2.554280381353593)\n",
            "variable([[2.21482401]]) variable([4.52705574]) variable(1.492599869047195)\n",
            "variable([[2.29524981]]) variable([4.70694745]) variable(0.8916952181756939)\n",
            "variable([[2.35373273]]) variable([4.84325585]) variable(0.5514270962227455)\n",
            "variable([[2.39573972]]) variable([4.9467725]) variable(0.3585915308319281)\n",
            "variable([[2.425382]]) variable([5.02561369]) variable(0.24915731977561134)\n",
            "variable([[2.44575118]]) variable([5.08588371]) variable(0.1869065876539789)\n",
            "variable([[2.45917205]]) variable([5.13217364]) variable(0.1513533629631488)\n",
            "variable([[2.4673927]]) variable([5.16793652]) variable(0.13091003006317087)\n",
            "variable([[2.47172747]]) variable([5.19576949]) variable(0.11902210735018467)\n",
            "variable([[2.47316455]]) variable([5.21762597]) variable(0.11198198322254362)\n",
            "variable([[2.47244676]]) variable([5.23497527]) variable(0.10769231158094321)\n",
            "variable([[2.47013247]]) variable([5.24892259]) variable(0.10496655795675108)\n",
            "variable([[2.46664127]]) variable([5.26029927]) variable(0.10313337115761934)\n",
            "variable([[2.46228843]]) variable([5.26973075]) variable(0.10181280604960243)\n",
            "variable([[2.45731071]]) variable([5.27768752]) variable(0.10078974954301652)\n",
            "variable([[2.4518859]]) variable([5.28452363]) variable(0.09994232708821599)\n",
            "variable([[2.44614738]]) variable([5.29050548]) variable(0.09920140749444821)\n",
            "variable([[2.44019517]]) variable([5.29583359]) variable(0.09852769772358984)\n",
            "variable([[2.4341042]]) variable([5.30065891]) variable(0.09789878700703991)\n",
            "variable([[2.4279305]]) variable([5.30509512]) variable(0.09730181854646197)\n",
            "variable([[2.42171596]]) variable([5.30922787]) variable(0.0967293443169877)\n",
            "variable([[2.41549177]]) variable([5.3131217]) variable(0.09617698031441604)\n",
            "variable([[2.40928112]]) variable([5.31682532]) variable(0.09564208018092028)\n",
            "variable([[2.40310116]]) variable([5.32037549]) variable(0.09512298485383605)\n",
            "variable([[2.39696452]]) variable([5.3238]) variable(0.09461859803040694)\n",
            "variable([[2.39088043]]) variable([5.32711987]) variable(0.09412814592514404)\n",
            "variable([[2.38485555]]) variable([5.33035108]) variable(0.09365104127065577)\n",
            "variable([[2.37889464]]) variable([5.33350575]) variable(0.09318680628411545)\n",
            "variable([[2.37300101]]) variable([5.33659314]) variable(0.09273502898904006)\n",
            "variable([[2.3671769]]) variable([5.33962035]) variable(0.09229533840647547)\n",
            "variable([[2.36142374]]) variable([5.34259283]) variable(0.09186739042193233)\n",
            "variable([[2.35574235]]) variable([5.34551483]) variable(0.09145085969346782)\n",
            "variable([[2.35013309]]) variable([5.34838966]) variable(0.09104543497939387)\n",
            "variable([[2.34459602]]) variable([5.35121993]) variable(0.09065081640275062)\n",
            "variable([[2.33913091]]) variable([5.35400772]) variable(0.0902667138137311)\n",
            "variable([[2.33373736]]) variable([5.35675472]) variable(0.08989284577554084)\n",
            "variable([[2.32841486]]) variable([5.35946234]) variable(0.0895289389052284)\n",
            "variable([[2.32316275]]) variable([5.36213172]) variable(0.08917472741757472)\n",
            "variable([[2.31798034]]) variable([5.36476385]) variable(0.08882995278605695)\n",
            "variable([[2.31286689]]) variable([5.3673596]) variable(0.08849436347219049)\n",
            "variable([[2.30782159]]) variable([5.36991973]) variable(0.08816771469564999)\n",
            "variable([[2.30284363]]) variable([5.3724449]) variable(0.08784976822950144)\n",
            "variable([[2.29793221]]) variable([5.37493575]) variable(0.08754029221162851)\n",
            "variable([[2.29308646]]) variable([5.37739285]) variable(0.08723906096725743)\n",
            "variable([[2.28830557]]) variable([5.37981674]) variable(0.08694585483964615)\n",
            "variable([[2.2835887]]) variable([5.38220792]) variable(0.0866604600272269)\n",
            "variable([[2.278935]]) variable([5.38456689]) variable(0.08638266842618712)\n",
            "variable([[2.27434366]]) variable([5.38689411]) variable(0.0861122774778659)\n",
            "variable([[2.26981384]]) variable([5.38919004]) variable(0.08584909002056745)\n",
            "variable([[2.26534474]]) variable([5.39145512]) variable(0.08559291414552149)\n",
            "variable([[2.26093555]]) variable([5.39368978]) variable(0.08534356305679344)\n",
            "variable([[2.25658547]]) variable([5.39589443]) variable(0.08510085493499035)\n",
            "variable([[2.25229371]]) variable([5.39806949]) variable(0.08486461280463413)\n",
            "variable([[2.2480595]]) variable([5.40021536]) variable(0.08463466440508784)\n",
            "variable([[2.24388206]]) variable([5.40233244]) variable(0.08441084206493275)\n",
            "variable([[2.23976064]]) variable([5.40442111]) variable(0.08419298257969864)\n",
            "variable([[2.23569448]]) variable([5.40648177]) variable(0.08398092709285435)\n",
            "variable([[2.23168285]]) variable([5.40851479]) variable(0.08377452097997208)\n",
            "variable([[2.22772501]]) variable([5.41052054]) variable(0.08357361373597812)\n",
            "variable([[2.22382025]]) variable([5.41249938]) variable(0.08337805886540826)\n",
            "variable([[2.21996785]]) variable([5.41445169]) variable(0.08318771377558704)\n",
            "variable([[2.21616712]]) variable([5.41637782]) variable(0.08300243967265336)\n",
            "variable([[2.21241735]]) variable([5.41827811]) variable(0.08282210146035615)\n",
            "variable([[2.20871786]]) variable([5.42015291]) variable(0.08264656764154595)\n",
            "variable([[2.20506799]]) variable([5.42200258]) variable(0.08247571022229121)\n",
            "variable([[2.20146706]]) variable([5.42382744]) variable(0.08230940461854906)\n",
            "variable([[2.19791443]]) variable([5.42562782]) variable(0.08214752956532231)\n",
            "variable([[2.19440943]]) variable([5.42740407]) variable(0.08198996702823673)\n",
            "variable([[2.19095144]]) variable([5.42915649]) variable(0.08183660211747391)\n",
            "variable([[2.18753983]]) variable([5.43088541]) variable(0.08168732300399718)\n",
            "variable([[2.18417396]]) variable([5.43259114]) variable(0.08154202083800904)\n",
            "variable([[2.18085323]]) variable([5.434274]) variable(0.08140058966958151)\n",
            "variable([[2.17757703]]) variable([5.4359343]) variable(0.08126292637140048)\n",
            "variable([[2.17434477]]) variable([5.43757232]) variable(0.0811289305635685)\n",
            "variable([[2.17115586]]) variable([5.43918838]) variable(0.08099850454041051)\n",
            "variable([[2.16800971]]) variable([5.44078277]) variable(0.0808715531992303)\n",
            "variable([[2.16490575]]) variable([5.44235578]) variable(0.08074798397096412)\n",
            "variable([[2.16184341]]) variable([5.44390769]) variable(0.08062770675268231)\n",
            "variable([[2.15882214]]) variable([5.44543879]) variable(0.08051063384188899)\n",
            "variable([[2.15584139]]) variable([5.44694936]) variable(0.08039667987257197)\n",
            "variable([[2.15290062]]) variable([5.44843967]) variable(0.08028576175295649)\n",
            "variable([[2.14999928]]) variable([5.44990999]) variable(0.08017779860491725)\n",
            "variable([[2.14713684]]) variable([5.4513606]) variable(0.08007271170500452)\n",
            "variable([[2.1443128]]) variable([5.45279175]) variable(0.07997042442704135)\n",
            "variable([[2.14152662]]) variable([5.45420371]) variable(0.07987086218625004)\n",
            "variable([[2.13877781]]) variable([5.45559674]) variable(0.07977395238486742)\n",
            "variable([[2.13606587]]) variable([5.45697108]) variable(0.07967962435920853)\n",
            "variable([[2.13339029]]) variable([5.458327]) variable(0.07958780932814088)\n",
            "variable([[2.13075059]]) variable([5.45966473]) variable(0.07949844034293135)\n",
            "variable([[2.12814629]]) variable([5.46098452]) variable(0.07941145223842926)\n",
            "variable([[2.12557692]]) variable([5.46228661]) variable(0.07932678158554966)\n",
            "variable([[2.123042]]) variable([5.46357124]) variable(0.07924436664502324)\n",
            "variable([[2.12054108]]) variable([5.46483864]) variable(0.07916414732237737)\n",
            "variable([[2.11807369]]) variable([5.46608905]) variable(0.07908606512411756)\n"
          ]
        }
      ]
    },
    {
      "cell_type": "markdown",
      "source": [
        "## 신경망"
      ],
      "metadata": {
        "id": "AiflvHVvGtV7"
      }
    },
    {
      "cell_type": "code",
      "source": [
        "# 선형 변환= 아핀 변환 = x와W사이의 행렬곱에 b더한 연산\n",
        "def linear_simple(x,W,b=None):\n",
        "  t=matmul(x,W)\n",
        "  if b is None:\n",
        "    return t\n",
        "  y= t+b\n",
        "  t.data=None # 중간 계산 결과 t필요없으니 버림\n",
        "  return y\n",
        "\n",
        "class Linear(Function):\n",
        "  def forward(self, x, W, b):\n",
        "    y = x.dot(W)\n",
        "    if b is not None:\n",
        "        y += b\n",
        "    return y\n",
        "\n",
        "  def backward(self, gy):\n",
        "    x, W, b = self.inputs\n",
        "    gb = None if b.data is None else sum_to(gy, b.shape)\n",
        "    # dim(self.grad)==dim(self.data)\n",
        "    gx = matmul(gy, W.T)\n",
        "    gW = matmul(x.T, gy)\n",
        "    return gx, gW, gb\n",
        "\n",
        "\n",
        "def linear(x, W, b=None):\n",
        "  return Linear()(x, W, b)"
      ],
      "metadata": {
        "id": "_d0fdenDybMm"
      },
      "execution_count": 21,
      "outputs": []
    },
    {
      "cell_type": "code",
      "source": [
        "# 비선형 데이터셋\n",
        "np.random.seed(0)\n",
        "x=np.random.rand(100,1)\n",
        "y=np.sin(2*np.pi*x)+np.random.rand(100,1)"
      ],
      "metadata": {
        "id": "APO4PVEjIi7E"
      },
      "execution_count": 22,
      "outputs": []
    },
    {
      "cell_type": "code",
      "source": [
        "#비선형 변환=활성화 함수\n",
        "\n",
        "# 메모리 효율 좋지 않은 버전\n",
        "def sigmoid_simple(x):\n",
        "  x=as_variable(x)\n",
        "  y=1/(1 + exp(-x))\n",
        "  return y\n",
        "\n",
        "class Sigmoid(Function):\n",
        "  def forward(self, x):\n",
        "    y = 1 / (1 + np.exp(-x))\n",
        "    y = np.tanh(x * 0.5) * 0.5 + 0.5  # Better implementation\n",
        "    return y\n",
        "\n",
        "  def backward(self, gy):\n",
        "    y = self.outputs[0]()\n",
        "    gx = gy * y * (1 - y)\n",
        "    return gx\n",
        "\n",
        "def sigmoid(x):\n",
        "    return Sigmoid()(x)\n"
      ],
      "metadata": {
        "id": "z3Xg9eLIKTeL"
      },
      "execution_count": 23,
      "outputs": []
    },
    {
      "cell_type": "markdown",
      "source": [
        "### 신경망 구현"
      ],
      "metadata": {
        "id": "DaTHs79fOPeW"
      }
    },
    {
      "cell_type": "code",
      "source": [
        "# 2층 신경망\n",
        "np.random.seed(0)\n",
        "x=np.random.rand(100,1)\n",
        "y=np.sin(2*np.pi*x)+np.random.rand(100,1)\n",
        "\n",
        "I, H, O=1,10,1\n",
        "W1=Variable(0.01*np.random.randn(I, H))\n",
        "b1=Variable(np.zeros(H))\n",
        "W2=Variable(0.01*np.random.randn(H, O))\n",
        "b2=Variable(np.zeros(O))\n",
        "\n",
        "def predict(x):\n",
        "  y=linear(x,W1,b1)\n",
        "  y=sigmoid(y)\n",
        "  y=linear(y,W2,b2)\n",
        "  return y\n",
        "\n",
        "lr=0.2\n",
        "iters=10000\n",
        "\n",
        "for i in range(iters):\n",
        "  y_pred=predict(x)\n",
        "  loss=mean_squared_error(y, y_pred)\n",
        "\n",
        "  W1.cleargrad()\n",
        "  b1.cleargrad()\n",
        "  b2.cleargrad()\n",
        "  W2.cleargrad()\n",
        "  loss.backward()\n",
        "\n",
        "  W1.data-=lr*W1.grad.data\n",
        "  W2.data-=lr*W2.grad.data\n",
        "  b1.data-=lr*b1.grad.data\n",
        "  b2.data-=lr*b2.grad.data\n",
        "  if i%1000==0:\n",
        "    print(loss)"
      ],
      "metadata": {
        "colab": {
          "base_uri": "https://localhost:8080/"
        },
        "id": "mLlAvyKfMUzi",
        "outputId": "5e5bbd10-4b5d-4027-ee8e-e08ed38361fe"
      },
      "execution_count": 24,
      "outputs": [
        {
          "output_type": "stream",
          "name": "stdout",
          "text": [
            "variable(0.8473695850105871)\n",
            "variable(0.2514286285183607)\n",
            "variable(0.24759485466749878)\n",
            "variable(0.23786120447054832)\n",
            "variable(0.21222231333102953)\n",
            "variable(0.16742181117834223)\n",
            "variable(0.0968193261999272)\n",
            "variable(0.07849528290602335)\n",
            "variable(0.07749729552991157)\n",
            "variable(0.07722132399559317)\n"
          ]
        }
      ]
    },
    {
      "cell_type": "markdown",
      "source": [
        "## 매개변수를 모아두는 계층"
      ],
      "metadata": {
        "id": "bKg_nVeWVBJF"
      }
    },
    {
      "cell_type": "code",
      "source": [
        "# 매개변수 기울기 재설정 시 단조로운 코드의 반복\n",
        "# 매개변수는 경사하강법을 통해 업데이트됨\n",
        "# Parameter 클래스 구축 Variable의 기능 필요->상속\n",
        "\n",
        "class Parameter(Variable):\n",
        "  pass\n",
        "\n",
        "x=Variable(np.array(1.0))\n",
        "p=Parameter(np.array(1.0))\n",
        "y=x*p\n",
        "\n",
        "print(isinstance(p, Parameter))\n",
        "print(isinstance(x, Parameter))\n",
        "print(isinstance(y, Parameter))\n",
        "print(y)"
      ],
      "metadata": {
        "colab": {
          "base_uri": "https://localhost:8080/"
        },
        "id": "11m6krpdOWjz",
        "outputId": "8c8f442d-414f-4fc7-af95-d50351073a2e"
      },
      "execution_count": 25,
      "outputs": [
        {
          "output_type": "stream",
          "name": "stdout",
          "text": [
            "True\n",
            "False\n",
            "False\n",
            "variable(1.0)\n"
          ]
        }
      ]
    },
    {
      "cell_type": "code",
      "source": [
        "import weakref\n",
        "class Layer:\n",
        "  def __init__(self):\n",
        "    self._params=set() # layer 인스턴스에 속한 매개변수를 보관\n",
        "  def __setattr__(self, name, value): # 인스턴스 변수 설정시 호출되는 특수 메서드\n",
        "    if isinstance(value, Parameter):\n",
        "      self._params.add(name)\n",
        "    super().__setattr__(name,value)\n",
        "\n",
        "  def __call__(self, *inputs):\n",
        "    outputs=self.forward(*inputs)\n",
        "    if not isinstance(outputs, tuple):\n",
        "      outputs=(outputs,)\n",
        "    self.inputs=[weakref.ref(x) for x in inputs]\n",
        "    self.outputs=[weakref.ref(x) for x in outputs]\n",
        "    return outputs if len(outputs)>1 else outputs[0]\n",
        "\n",
        "  def forward(self, inputs):\n",
        "    raise NotImplementedError()\n",
        "\n",
        "  def params(self): # Layer인스턴스에 담겨있는 Parameter인스턴스들을 꺼내준다.\n",
        "    for name in self._params:\n",
        "      yield self.__dict__[name] #return과 비슷하게 값을 반환하지만, 함수를 종료하지 않고 실행 상태를 저장한 채 멈춥니다.다음번에 호출하면 멈췄던 지점부터 다시 실행\n",
        "  # param 메서드 호출 시마다 일시 정지됬던 처리가 재개됨.\n",
        "\n",
        "  def cleargrads(self): # 모든 매개변수 기울기를 재설정한다.\n",
        "    for param in self.params():\n",
        "      param.cleargrad()\n",
        "\n",
        "layer=Layer()\n",
        "layer.p1=Parameter(np.array(1))\n",
        "layer.p2=Parameter(np.array(2))\n",
        "layer.p3=Variable(np.array(3))\n",
        "layer.p4='test'\n",
        "\n",
        "print(layer._params)\n",
        "print('------------')\n",
        "\n",
        "for name in layer._params:\n",
        "  print(name, layer.__dict__[name]) # __dict__에는 모든 인스턴스 변수가 딕셔너리 타입으로 저장됨\n"
      ],
      "metadata": {
        "colab": {
          "base_uri": "https://localhost:8080/"
        },
        "id": "ukgI65UdWRbt",
        "outputId": "22b315c8-d0f4-4f08-bd37-000c7c29f6e5"
      },
      "execution_count": 26,
      "outputs": [
        {
          "output_type": "stream",
          "name": "stdout",
          "text": [
            "{'p2', 'p1'}\n",
            "------------\n",
            "p2 variable(2)\n",
            "p1 variable(1)\n"
          ]
        }
      ]
    },
    {
      "cell_type": "code",
      "source": [
        "# Linear class 구현\n",
        "# class Linear(Layer):\n",
        "#   def __init__(self, in_size, out_size, nobias=False, dtype=np.float32):\n",
        "#     super().__init__()\n",
        "\n",
        "#     I,O =in_size,out_size\n",
        "#     W_data=np.random.randn(I,O).astype(dtype) * np.sqrt(1/I)\n",
        "#     self.W=Parameter(W_data, name='W')\n",
        "#     if nobias:\n",
        "#       self.b=None\n",
        "#     else:\n",
        "#       self.b=Parameter(np.zeros(O, dtype=dtype),name='b')\n",
        "\n",
        "#   def forward(self, x):\n",
        "#     y=linear(x, self.W, self.b)\n",
        "#     return y\n",
        ""
      ],
      "metadata": {
        "id": "ZP5wd9vOY63T"
      },
      "execution_count": 27,
      "outputs": []
    },
    {
      "cell_type": "code",
      "source": [
        "# 가중치 W를 생성하는 시점을 늦추는 방식(초기화때가 아닌 forward때 생성)\n",
        "class LLinear(Layer):\n",
        "  def __init__(self, out_size, nobias=False, dtype=np.float32, in_size=None):\n",
        "    super().__init__()\n",
        "    self.in_size=in_size\n",
        "    self.out_size=out_size\n",
        "    self.dtype=dtype\n",
        "\n",
        "    self.W=Parameter(data=None, name='W')\n",
        "    if self.in_size is not None:\n",
        "      self._init_W()\n",
        "\n",
        "    if nobias:\n",
        "      self.b=None\n",
        "    else:\n",
        "      self.b=Parameter(np.zeros(out_size, dtype=dtype),name='b')\n",
        "\n",
        "  def _init_W(self):\n",
        "    I,O=self.in_size, self.out_size\n",
        "    W_data=np.random.randn(I,O).astype(self.dtype) * np.sqrt(1/I)\n",
        "    self.W.data=W_data\n",
        "\n",
        "  def forward(self, x):\n",
        "    if self.W.data is None:\n",
        "      self.in_size=x.shape[1]\n",
        "      self._init_W()\n",
        "\n",
        "    y=linear(x, self.W, self.b)\n",
        "    return y\n"
      ],
      "metadata": {
        "id": "V6ghnxZNhEI-"
      },
      "execution_count": 28,
      "outputs": []
    },
    {
      "cell_type": "code",
      "source": [
        "# Layer 이용한 신경망 구현\n",
        "np.random.seed(0)\n",
        "x=np.random.rand(100,1)\n",
        "y=np.sin(2*np.pi*x)+np.random.rand(100,1)\n",
        "\n",
        "l1=LLinear(10) # 출력 크기 지정함\n",
        "l2=LLinear(1)\n",
        "\n",
        "def predict(x):\n",
        "  y=l1(x)\n",
        "  y=sigmoid(y)\n",
        "  y=l2(y)\n",
        "  return y\n",
        "\n",
        "lr=0.2\n",
        "iters=10000\n",
        "\n",
        "for i in range(iters):\n",
        "  y_pred=predict(x)\n",
        "  loss=mean_squared_error(y,y_pred)\n",
        "\n",
        "  l1.cleargrads()\n",
        "  l2.cleargrads()\n",
        "  loss.backward()\n",
        "\n",
        "  for l in [l1,l2]:\n",
        "    for p in l.params():\n",
        "      p.data-=lr*p.grad.data\n",
        "\n",
        "  if i%1000==0:\n",
        "    print(loss)"
      ],
      "metadata": {
        "colab": {
          "base_uri": "https://localhost:8080/"
        },
        "id": "8uujaIt-pVeC",
        "outputId": "b558c93e-d7f2-4afb-d3cf-4aa2ce5d7eb3"
      },
      "execution_count": 29,
      "outputs": [
        {
          "output_type": "stream",
          "name": "stdout",
          "text": [
            "variable(0.8165178492839196)\n",
            "variable(0.24990280802148895)\n",
            "variable(0.24609876581126014)\n",
            "variable(0.2372159081431807)\n",
            "variable(0.20793216413350174)\n",
            "variable(0.12311905720649353)\n",
            "variable(0.07888166506355147)\n",
            "variable(0.07655073683421637)\n",
            "variable(0.0763780308623822)\n",
            "variable(0.07618764131185572)\n"
          ]
        }
      ]
    },
    {
      "cell_type": "code",
      "source": [
        "# Linear class를 개별적으로 다루는 부분이 어색함"
      ],
      "metadata": {
        "id": "yhZH0BhjrRb8"
      },
      "execution_count": 30,
      "outputs": []
    },
    {
      "cell_type": "markdown",
      "source": [
        "## 계층을 모아두는 계층"
      ],
      "metadata": {
        "id": "-m6lRjnvut2X"
      }
    },
    {
      "cell_type": "code",
      "source": [
        "# layer클래스에는 매개변수를 관리하는 구조가 있어서 매개변수를 직접 다루지 않아도 편리함\n",
        "# 하지만 layer인스턴스 자체 관리의 문제가 남아있다. 10개층 신경만 관리->10개 레이어 관리 필요\n",
        "# layer클래스가 다른 layer도 담을 수 있게 확장\n",
        "import weakref\n",
        "class Layer:\n",
        "  def __init__(self):\n",
        "    self._params=set() # layer 인스턴스에 속한 매개변수를 보관\n",
        "  def __setattr__(self, name, value): # 인스턴스 변수 설정시 호출되는 특수 메서드\n",
        "    if isinstance(value, (Parameter, Layer)): # 수정\n",
        "      self._params.add(name)\n",
        "    super().__setattr__(name,value)\n",
        "\n",
        "  def __call__(self, *inputs):\n",
        "    outputs=self.forward(*inputs)\n",
        "    if not isinstance(outputs, tuple):\n",
        "      outputs=(outputs,)\n",
        "    self.inputs=[weakref.ref(x) for x in inputs]\n",
        "    self.outputs=[weakref.ref(x) for x in outputs]\n",
        "    return outputs if len(outputs)>1 else outputs[0]\n",
        "\n",
        "  def forward(self, inputs):\n",
        "    raise NotImplementedError()\n",
        "\n",
        "  def params(self): # Layer인스턴스에 담겨있는 Parameter인스턴스들을 꺼내준다.\n",
        "    for name in self._params:\n",
        "      obj=self.__dict__[name]\n",
        "      if isinstance(obj, Layer): # 매개변수 꺼내는 처리 구별\n",
        "        yield from obj.params()\n",
        "      else:\n",
        "        yield obj\n",
        "# yield 사용한 함수를 제너레이터라 하고, 제너레이터 사용해 또 다른 제너레이터 만드려면 yield from사용\n",
        "  def cleargrads(self): # 모든 매개변수 기울기를 재설정한다.\n",
        "    for param in self.params():\n",
        "      param.cleargrad()\n",
        "#------------------------------------------------------------------------------------------\n",
        "class LLinear(Layer):\n",
        "  def __init__(self, out_size, nobias=False, dtype=np.float32, in_size=None):\n",
        "    super().__init__()\n",
        "    self.in_size=in_size\n",
        "    self.out_size=out_size\n",
        "    self.dtype=dtype\n",
        "    self.W=Parameter(data=None, name='W')\n",
        "\n",
        "    if self.in_size is not None:\n",
        "      self._init_W()\n",
        "\n",
        "    if nobias:\n",
        "      self.b=None\n",
        "    else:\n",
        "      self.b=Parameter(np.zeros(out_size, dtype=dtype),name='b')\n",
        "\n",
        "  def _init_W(self):\n",
        "    I,O=self.in_size, self.out_size\n",
        "    W_data=np.random.randn(I,O).astype(self.dtype) * np.sqrt(1/I)\n",
        "    self.W.data=W_data\n",
        "\n",
        "  def forward(self, x):\n",
        "    if self.W.data is None:\n",
        "      self.in_size=x.shape[1]\n",
        "      self._init_W()\n",
        "\n",
        "    y=linear(x, self.W, self.b)\n",
        "    return y\n"
      ],
      "metadata": {
        "id": "zR_O7WAVCSWA"
      },
      "execution_count": 34,
      "outputs": []
    },
    {
      "cell_type": "code",
      "source": [
        "model=Layer()\n",
        "model.l1=LLinear(5)\n",
        "model.l2=LLinear(3)\n",
        "\n",
        "# 추론 수행 함수\n",
        "def predict(model, x):\n",
        "  y=model.l1(x)\n",
        "  y=sigmoid(y)\n",
        "  y=model.l2(y)\n",
        "  return y\n",
        "\n",
        "# 모든 매개변수에 접근\n",
        "for p in model.params():\n",
        "  print(p)\n",
        "\n",
        "model.cleargrads() #모든 매개변수의 기울기 재설정"
      ],
      "metadata": {
        "colab": {
          "base_uri": "https://localhost:8080/"
        },
        "id": "APB41O2f7YS3",
        "outputId": "bc1a663f-ee46-4cb4-f9d0-acbbe79dd2be"
      },
      "execution_count": 35,
      "outputs": [
        {
          "output_type": "stream",
          "name": "stdout",
          "text": [
            "variable(None)\n",
            "variable([0. 0. 0.])\n",
            "variable(None)\n",
            "variable([0. 0. 0. 0. 0.])\n"
          ]
        }
      ]
    },
    {
      "cell_type": "code",
      "source": [
        "class TwoLayerNet(Layer):\n",
        "  def __init__(self, hidden_size,out_size):\n",
        "    super().__init__()\n",
        "    self.l1=LLinear(hidden_size)\n",
        "    self.l2=LLinear(out_size)\n",
        "  def forward(self, x):\n",
        "    y=self.l1(x)\n",
        "    y=sigmoid(y)\n",
        "    y=self.l2(y)\n",
        "    return y"
      ],
      "metadata": {
        "id": "ry7PxTpu8ECw"
      },
      "execution_count": 36,
      "outputs": []
    },
    {
      "cell_type": "code",
      "source": [
        "# Model class - Layer에서 plot기능만 추가\n",
        "class Model(Layer):\n",
        "  def plot(self, *inputs, to_file='model.png'): #계산그래프출력\n",
        "    pass\n",
        "    # y=self.forward(*inputs)\n",
        "    # return utils.plot_dot_graph(y, verbose=True, to_file=to_file)"
      ],
      "metadata": {
        "id": "5xS6N69h514B"
      },
      "execution_count": 38,
      "outputs": []
    },
    {
      "cell_type": "code",
      "source": [
        "class TwoLayerNet(Model):\n",
        "  def __init__(self, hidden_size, out_size):\n",
        "    super().__init__()\n",
        "    self.l1=LLinear(hidden_size)\n",
        "    self.l2=LLinear(out_size)\n",
        "  def forward(self, x):\n",
        "    y=sigmoid(self.l1(x))\n",
        "    y=self.l2(y)\n",
        "    return y\n",
        "\n",
        "x=Variable(np.random.randn(5,10), name='x')\n",
        "model=TwoLayerNet(100,10) # hidden, output size\n",
        "model.forward(x)"
      ],
      "metadata": {
        "colab": {
          "base_uri": "https://localhost:8080/"
        },
        "id": "GwxhAjD6-JUW",
        "outputId": "2f69f790-2989-4357-cc68-1c84ce1d2929"
      },
      "execution_count": 41,
      "outputs": [
        {
          "output_type": "execute_result",
          "data": {
            "text/plain": [
              "variable([[-0.10061774  0.00913647  0.07492634  0.43395097  0.3826115  -0.06753296\n",
              "  -0.44847354  0.58078851 -0.99083058 -0.19144068]\n",
              " [-0.23770251  0.5943554  -0.27258497  0.25886925  0.11739579 -0.24034619\n",
              "  -0.39743566  0.20193463 -0.93868053 -0.45931691]\n",
              " [ 0.0793762   0.1455491   0.01470574  0.48106253 -0.04915421  0.02584182\n",
              "  -0.57785527  0.11280224 -1.07847152 -0.02668985]\n",
              " [-0.12526412  0.40934694 -0.06665403  0.37532534  0.39750764 -0.37004545\n",
              "  -0.25350076  0.52926237 -0.63736665 -0.27520264]\n",
              " [-0.07284025  0.38353067 -0.30498314  0.46257321 -0.27446528  0.0463466\n",
              "  -0.36865248  0.12944129 -0.81451334  0.03678819]])"
            ]
          },
          "metadata": {},
          "execution_count": 41
        }
      ]
    },
    {
      "cell_type": "code",
      "source": [
        "np.random.seed(0)\n",
        "x=np.random.rand(100,1)\n",
        "y=np.sin(2*np.pi*x) + np.random.rand(100,1) # 정답값\n",
        "\n",
        "lr=0.2\n",
        "max_iter=10000\n",
        "hidden_size=10\n",
        "\n",
        "class TwoLayerNet(Model):\n",
        "  def __init__(self, hidden_size, out_size):\n",
        "    super().__init__()\n",
        "    self.l1=LLinear(hidden_size)\n",
        "    self.l2=LLinear(out_size)\n",
        "\n",
        "  def forward(self, x):\n",
        "    y=sigmoid(self.l1(x))\n",
        "    y=self.l2(y)\n",
        "    return y\n",
        "\n",
        "model=TwoLayerNet(hidden_size,1)\n",
        "for i in range(max_iter):\n",
        "  y_pred=model.forward(x)\n",
        "  loss=mean_squared_error(y,y_pred)\n",
        "\n",
        "  model.cleargrads()\n",
        "  loss.backward()\n",
        "\n",
        "  for p in model.params(): # Layer수정과 Model 클래스 도입으로 간결해짐\n",
        "    p.data-=lr*p.grad.data\n",
        "\n",
        "  if i%1000==0:\n",
        "    print(loss)\n",
        "\n",
        "# 이제 모든 매개변수를 Model class로 관리 가능하다"
      ],
      "metadata": {
        "colab": {
          "base_uri": "https://localhost:8080/"
        },
        "id": "E1H9JQ7xHIJj",
        "outputId": "03786b47-799e-4dfc-ca4e-c1a4fd3fc687"
      },
      "execution_count": 44,
      "outputs": [
        {
          "output_type": "stream",
          "name": "stdout",
          "text": [
            "variable(0.8165178492839196)\n",
            "variable(0.24990280802148895)\n",
            "variable(0.24609876581126014)\n",
            "variable(0.2372159081431807)\n",
            "variable(0.20793216413350174)\n",
            "variable(0.12311905720649353)\n",
            "variable(0.07888166506355147)\n",
            "variable(0.07655073683421637)\n",
            "variable(0.0763780308623822)\n",
            "variable(0.07618764131185572)\n"
          ]
        }
      ]
    },
    {
      "cell_type": "code",
      "source": [
        "# MLP (좀 더 범용적인 신경망 모델 구축)\n",
        "class MLP(Model):\n",
        "  def __init__(self, fc_output_sizes, activation=sigmoid):\n",
        "    super().__init__()\n",
        "    self.activation=activation\n",
        "    self.layers=[] # 초기화된 LLinear 클래스들 모아놓은 리스트\n",
        "\n",
        "    for i, out_size in enumerate(fc_output_sizes):\n",
        "      layer=LLinear(out_size)\n",
        "      setattr(self, 'l'+str(i),layer) # MLP에 LLinear 인스턴스 변수 MLP (좀 더 범용적인 신경망 모델 구축)\n",
        "      self.layers.append(layer)\n",
        "\n",
        "  def forward(self, x):\n",
        "    for l in self.layers[:-1]: # 마지막 요소 제외 후 모두 가져옴 (마지막에는 활성화함수 적용 안하기 때문)\n",
        "      x=self.activation(l(x))\n",
        "    return self.layers[-1](x)"
      ],
      "metadata": {
        "id": "OJ5lMajPQXvf"
      },
      "execution_count": 45,
      "outputs": []
    },
    {
      "cell_type": "code",
      "source": [
        "model=MLP((10,1)) #2층\n",
        "model=MLP((10,20,30,40,1)) #5층"
      ],
      "metadata": {
        "id": "-QObBZLQU7EB"
      },
      "execution_count": 46,
      "outputs": []
    },
    {
      "cell_type": "markdown",
      "source": [
        "## Optimizer로 매개변수 갱신"
      ],
      "metadata": {
        "id": "nKV4Tw-LZmtm"
      }
    },
    {
      "cell_type": "code",
      "source": [
        "# 매개변수 갱신 작업(이제까지는 경사하강법)을 모듈화\n",
        "'''\n",
        "for p in model.params():\n",
        "    p.data-=lr*p.grad.data\n",
        "'''\n",
        "class Optimizer:\n",
        "  def __init__(self):\n",
        "    self.target=None # Model 상속받은 클래스\n",
        "    self.hooks=[] # 가중치감소, 기울기클리핑 기법 등의 전처리 함수 넣을 수 있다\n",
        "\n",
        "  def setup(self, target):\n",
        "    self.target=target\n",
        "    return self\n",
        "\n",
        "  def update(self):\n",
        "    params=[p for p in self.target.params() if p.grad is not None]\n",
        "\n",
        "    # 전처리 (옵션)\n",
        "    for f in self.hooks:\n",
        "      f(params)\n",
        "\n",
        "    for param in params:\n",
        "      self.update_one(param)\n",
        "\n",
        "  def update_one(self, param): # 구체적인 매개변수 갱신\n",
        "    raise NotImplementedError()\n",
        "\n",
        "  def add_hook(self, f):\n",
        "    self.hooks.append(f)\n"
      ],
      "metadata": {
        "id": "AS7dYKCKZj6G"
      },
      "execution_count": 47,
      "outputs": []
    },
    {
      "cell_type": "code",
      "source": [
        "# 경사하강법 지원하는 옵티마이저 구현\n",
        "class SGD(Optimizer):\n",
        "  def __init__(self, lr=0.01):\n",
        "    super().__init__()\n",
        "    self.lr=lr\n",
        "\n",
        "  def update_one(self, param):\n",
        "    param.data-=self.lr*param.grad.data"
      ],
      "metadata": {
        "id": "caYlc_ddbnez"
      },
      "execution_count": 52,
      "outputs": []
    },
    {
      "cell_type": "code",
      "source": [
        "np.random.seed(0)\n",
        "x=np.random.rand(100,1)\n",
        "y=np.sin(2*np.pi*x) + np.random.rand(100,1) # 정답값\n",
        "\n",
        "lr=0.2\n",
        "max_iter=10000\n",
        "hidden_size=10\n",
        "\n",
        "model=MLP((hidden_size, 1))\n",
        "optimizer=SGD(lr)\n",
        "optimizer.setup(model)\n",
        "\n",
        "for i in range(max_iter):\n",
        "  y_pred=model(x)\n",
        "  loss=mean_squared_error(y, y_pred)\n",
        "\n",
        "  model.cleargrads()\n",
        "  loss.backward()\n",
        "\n",
        "  optimizer.update()\n",
        "  if i%1000==0:\n",
        "    print(loss)"
      ],
      "metadata": {
        "colab": {
          "base_uri": "https://localhost:8080/"
        },
        "id": "QX83q6I1c5fu",
        "outputId": "42f566d3-3659-474f-a29f-0d735d2f7eb7"
      },
      "execution_count": 53,
      "outputs": [
        {
          "output_type": "stream",
          "name": "stdout",
          "text": [
            "variable(0.8165178492839196)\n",
            "variable(0.24990280802148895)\n",
            "variable(0.24609876581126014)\n",
            "variable(0.2372159081431807)\n",
            "variable(0.20793216413350174)\n",
            "variable(0.12311905720649353)\n",
            "variable(0.07888166506355147)\n",
            "variable(0.07655073683421637)\n",
            "variable(0.0763780308623822)\n",
            "variable(0.07618764131185572)\n"
          ]
        }
      ]
    },
    {
      "cell_type": "code",
      "source": [
        "# sgd이외의 최적화 기법\n",
        "class MomentumSGD(Optimizer):\n",
        "  def __init__(self, lr=0.01, momentum=0.9):\n",
        "    super().__init__()\n",
        "    self.momentum=momentum\n",
        "    self.vs={}\n",
        "\n",
        "  def update_one(self, param):\n",
        "    v_key=id(param)\n",
        "    if v_key not in self.vs:\n",
        "      self.vs[v_key]=np.zeros_like(param.data)\n",
        "\n",
        "    v=self.vs[v_key]\n",
        "    v*=self.momentum\n",
        "    v-=self.lr*param.grad.data # 현재 기울기 방향으로 속도 업데이트\n",
        "    param.data+=v"
      ],
      "metadata": {
        "id": "4dInlV1cfA_u"
      },
      "execution_count": 54,
      "outputs": []
    },
    {
      "cell_type": "markdown",
      "source": [
        "## 소프트맥스 함수, 교차엔트로피 오차"
      ],
      "metadata": {
        "id": "MFsdmctlmxxN"
      }
    },
    {
      "cell_type": "code",
      "source": [
        "# functions에서 가져\n",
        "class GetItem(Function):\n",
        "    def __init__(self, slices):\n",
        "        self.slices = slices\n",
        "\n",
        "    def forward(self, x):\n",
        "        y = x[self.slices]\n",
        "        return y\n",
        "\n",
        "    def backward(self, gy):\n",
        "        x, = self.inputs\n",
        "        f = GetItemGrad(self.slices, x.shape)\n",
        "        return f(gy)\n",
        "\n",
        "\n",
        "class GetItemGrad(Function):\n",
        "    def __init__(self, slices, in_shape):\n",
        "        self.slices = slices\n",
        "        self.in_shape = in_shape\n",
        "\n",
        "    def forward(self, gy):\n",
        "        gx = np.zeros(self.in_shape, dtype=gy.dtype)\n",
        "\n",
        "        if gy is np:\n",
        "            np.add.at(gx, self.slices, gy)\n",
        "        else:\n",
        "            gy.scatter_add(gx, self.slices, gy)\n",
        "        return gx\n",
        "\n",
        "    def backward(self, ggx):\n",
        "        return get_item(ggx, self.slices)\n",
        "\n",
        "\n",
        "def get_item(x, slices):\n",
        "    f = GetItem(slices)\n",
        "    return f(x)"
      ],
      "metadata": {
        "id": "MdHbZH40fFXT"
      },
      "execution_count": 62,
      "outputs": []
    },
    {
      "cell_type": "code",
      "source": [
        "x=Variable(np.array([[1,2,3],[4,5,6]]))\n",
        "y=get_item(x,1) # Variable 다차원 배열 중 일부를 슬라이스 해서 가져옴\n",
        "print(y)\n",
        "# y.backward()\n",
        "# print(x.grad)"
      ],
      "metadata": {
        "colab": {
          "base_uri": "https://localhost:8080/"
        },
        "id": "cw1rFakLmwVQ",
        "outputId": "223d72a5-8d0e-4904-f416-9ae347323eb5"
      },
      "execution_count": 64,
      "outputs": [
        {
          "output_type": "stream",
          "name": "stdout",
          "text": [
            "variable([4 5 6])\n"
          ]
        }
      ]
    },
    {
      "cell_type": "code",
      "source": [
        "def softmax1d(x):\n",
        "  x=as_variable(x)\n",
        "  y=exp(x)\n",
        "  sum_y=sum(y)\n",
        "  return y/sum_y\n",
        "\n",
        "# 배치 데이터도 처리가능 버전\n",
        "def softmax_simple(x, axis=1):\n",
        "  x=as_variable(x)\n",
        "  y=exp(x)\n",
        "  sum_y=sum(y,axis=axis, keepdims=True)\n",
        "  return y/sum_y"
      ],
      "metadata": {
        "id": "rgC8fNWsnCbk"
      },
      "execution_count": 66,
      "outputs": []
    },
    {
      "cell_type": "code",
      "source": [
        "class Clip(Function):\n",
        "    def __init__(self, x_min, x_max):\n",
        "        self.x_min = x_min\n",
        "        self.x_max = x_max\n",
        "\n",
        "    def forward(self, x):\n",
        "        y = np.clip(x, self.x_min, self.x_max)\n",
        "        return y\n",
        "\n",
        "    def backward(self, gy):\n",
        "        x, = self.inputs\n",
        "        mask = (x.data >= self.x_min) * (x.data <= self.x_max)\n",
        "        gx = gy * mask\n",
        "        return gx\n",
        "\n",
        "\n",
        "def clip(x, x_min, x_max):\n",
        "    return Clip(x_min, x_max)(x)\n",
        "\n",
        "def softmax_cross_entropy_simple(x,t):\n",
        "  x,t=as_variable(x),as_variable(t)\n",
        "  N=x.shape[0]\n",
        "\n",
        "  p=softmax_simple(x)\n",
        "  p=clip(p, 1e-15,1.0)\n",
        "  log_p=log(p)\n",
        "  tlog_p=log_p[np.arange(N),t.data]\n",
        "  y=-1*sum(tlog_p)/N\n",
        "  return y"
      ],
      "metadata": {
        "id": "8r6vr0lQpSZG"
      },
      "execution_count": 69,
      "outputs": []
    },
    {
      "cell_type": "code",
      "source": [],
      "metadata": {
        "id": "mf13NRy8tfM7"
      },
      "execution_count": null,
      "outputs": []
    }
  ]
}